{
 "cells": [
  {
   "cell_type": "markdown",
   "metadata": {},
   "source": [
    "# Fundamentals of Data Science\n",
    "Winter Semester 2020\n",
    "\n",
    "## Prof. Fabio Galasso, Alessandro Flaborea and Luca Franco\n",
    "<galasso@di.uniroma1.it>, <flaborea.1841969@studenti.uniroma1.it>, <franco.luca.17@gmail.com>\n",
    "\n",
    "## Exercise 2"
   ]
  },
  {
   "cell_type": "markdown",
   "metadata": {},
   "source": [
    "In Exercise 2, you will re-derive and implement logistic regression and optimize the parameters with Gradient Descent and with the Newton's method. Also, in this exercise you will re-derive and implement Gassian Discriminant Analysis.\n",
    "We will use the files logistic_x.txt and logistic_y.txt. The first contains the feature values $x^{(i)}_1$ and $x^{(i)}_2$ for the $i$-th data sample $x^{(i)}$. The second contains the ground truth label $y^{(i)}$ for each corresponding data sample.\n",
    "\n",
    "Note that, differently from what seen in lecture, $y^{(i)}\\in \\{-1,1\\}$.\n",
    "\n",
    "The completed exercise should be handed in as a single notebook file. Use Markdown to provide equations. Use the code sections to provide your scripts and the corresponding plots.\n",
    "Submit it by sending an email to galasso@di.uniroma1.it, flaborea.1841969@studenti.uniroma1.it and franco.luca.17@gmail.com by Wednesday November 25th, 23:59."
   ]
  },
  {
   "cell_type": "markdown",
   "metadata": {},
   "source": [
    "## Notation\n",
    "\n",
    "- $x^i$ is the $i^{th}$ feature vector\n",
    "- $y^i$ is the expected outcome for the $i^{th}$ training example\n",
    "- $m$ is the number of training examples\n",
    "- $n$ is the number of features\n",
    "\n",
    "Let's start by setting up our Python environment and importing the required libraries:"
   ]
  },
  {
   "cell_type": "markdown",
   "metadata": {},
   "source": [
    "\n",
    "## [15 points] Question 1: Logistic Regression with Gradient Ascent"
   ]
  },
  {
   "cell_type": "markdown",
   "metadata": {},
   "source": [
    "### (a) [5 points] Equations for the log likelihood, its gradient, and the gradient ascent update rule.\n",
    "\n",
    "Write and simplify the likelihood $L(\\theta)$ and log-likelihood $l(\\theta)$ of the parameters $\\theta$.\n",
    "\n",
    "Recall the probabilistic interpretation of the hypothesis $h_\\theta(x)= P(y=1|x;\\theta)$ and that $h_\\theta(x)=\\frac{1}{1+\\exp(-\\theta^T x)}$.\n",
    "\n",
    "Also derive the gradient $\\frac{\\delta l(\\theta)}{\\delta \\theta_j}$ of $l(\\theta)$ and write the gradient update equation. \n",
    "\n",
    "Question: in order to learn the optimal $\\theta$, do you need to minimize or to maximize $l(\\theta)$?"
   ]
  },
  {
   "cell_type": "markdown",
   "metadata": {},
   "source": [
    "################# Do not write above this line #################"
   ]
  },
  {
   "cell_type": "markdown",
   "metadata": {},
   "source": [
    "***The following formula describes and simplify the Likelihood function of $\\theta$:***\n",
    "\n",
    "$ L(\\theta) = P(y | C; \\theta) = \\prod_{i=1}^mP(y^{(i)} | x^{(i)}; \\theta) $ $ = \\prod_{i=1}^m\\frac{1}{\\sqrt{2\\pi}\\sigma} e^{- \\frac{(y^{i} - \\theta^tx^{(i)})^2}{2\\sigma^2}}) $\n",
    "\n",
    "***Log-likelihood of $\\theta$ is the following:***\n",
    "\n",
    "$l(\\theta) = log(L(\\theta)) = log(\\prod_{i=1}^m\\frac{1}{\\sqrt{2\\pi}\\sigma} e^{- \\frac{(y^{i} - \\theta^tx^{(i)})^2}{2\\sigma^2}})) = \\sum_{i=0}^m[log(\\frac{1}{\\sqrt{2\\pi}\\sigma})+log(e^{-\\frac{(y^{i} - \\theta^tx^{(i)})^2}{2\\sigma^2}})] = mlog(\\frac{1}{\\sqrt{2\\pi}\\sigma})+\\sum_{i=0}^m-\\frac{(y^{i} - \\theta^tx^{(i)})^2}{2\\sigma^2}$\n",
    "\n",
    "***Gradient of log-likelihood:***\n",
    "\n",
    "$\\sum_{i=1}^{m}(y^{i}-h_{\\theta}(x^{i}))x_{j}^{(i)}$\n",
    "\n",
    "***Update equation for $\\theta_{j}$:***\n",
    "\n",
    "$\\theta_{j} := \\theta_{j} + \\alpha\\sum_{i=1}^{m}(y^{i}-h_{\\theta}(x^{i}))x_{j}^{(i)}$\n",
    "\n",
    "\n",
    "In order to learn the optimal $\\theta$ in the gradient ascent, we need to maximize $l(\\theta)$."
   ]
  },
  {
   "cell_type": "markdown",
   "metadata": {},
   "source": [
    "################# Do not write below this line #################"
   ]
  },
  {
   "cell_type": "markdown",
   "metadata": {},
   "source": [
    "### (b) [10 points] Implementation of logistic regression with Gradient Ascent\n",
    "\n",
    "Code up the equations above to learn the logistic regression parameters. Consider as data the files logistic_x.txt and logistic_y.txt. The first contains the feature values $x^{(i)}_1$ and $x^{(i)}_2$ for the $i$-th data sample $x^{(i)}$. The second contains the ground truth label $y^{(i)}$ for each corresponding data sample."
   ]
  },
  {
   "cell_type": "code",
   "execution_count": 1,
   "metadata": {},
   "outputs": [],
   "source": [
    "%matplotlib inline\n",
    "import numpy as np # imports a fast numerical programming library\n",
    "import scipy as sp # imports stats functions, amongst other things\n",
    "import matplotlib as mpl # this actually imports matplotlib\n",
    "import matplotlib.cm as cm # allows us easy access to colormaps\n",
    "import matplotlib.pyplot as plt # sets up plotting under plt\n",
    "import pandas as pd # lets us handle data as dataframes\n",
    "\n",
    "# sets up pandas table display\n",
    "pd.set_option('display.width', 500)\n",
    "pd.set_option('display.max_columns', 100)\n",
    "pd.set_option('display.notebook_repr_html', True)\n",
    "\n",
    "import seaborn as sns # sets up styles and gives us more plotting options"
   ]
  },
  {
   "cell_type": "markdown",
   "metadata": {},
   "source": [
    "Let's start by loading the data into two pandas DataFrames:"
   ]
  },
  {
   "cell_type": "code",
   "execution_count": 2,
   "metadata": {},
   "outputs": [
    {
     "data": {
      "text/html": [
       "<div>\n",
       "<style scoped>\n",
       "    .dataframe tbody tr th:only-of-type {\n",
       "        vertical-align: middle;\n",
       "    }\n",
       "\n",
       "    .dataframe tbody tr th {\n",
       "        vertical-align: top;\n",
       "    }\n",
       "\n",
       "    .dataframe thead th {\n",
       "        text-align: right;\n",
       "    }\n",
       "</style>\n",
       "<table border=\"1\" class=\"dataframe\">\n",
       "  <thead>\n",
       "    <tr style=\"text-align: right;\">\n",
       "      <th></th>\n",
       "      <th>x1</th>\n",
       "      <th>x2</th>\n",
       "    </tr>\n",
       "  </thead>\n",
       "  <tbody>\n",
       "    <tr>\n",
       "      <th>0</th>\n",
       "      <td>1.343250</td>\n",
       "      <td>-1.331148</td>\n",
       "    </tr>\n",
       "    <tr>\n",
       "      <th>1</th>\n",
       "      <td>1.820553</td>\n",
       "      <td>-0.634668</td>\n",
       "    </tr>\n",
       "    <tr>\n",
       "      <th>2</th>\n",
       "      <td>0.986321</td>\n",
       "      <td>-1.888576</td>\n",
       "    </tr>\n",
       "    <tr>\n",
       "      <th>3</th>\n",
       "      <td>1.944373</td>\n",
       "      <td>-1.635452</td>\n",
       "    </tr>\n",
       "    <tr>\n",
       "      <th>4</th>\n",
       "      <td>0.976734</td>\n",
       "      <td>-1.353315</td>\n",
       "    </tr>\n",
       "  </tbody>\n",
       "</table>\n",
       "</div>"
      ],
      "text/plain": [
       "         x1        x2\n",
       "0  1.343250 -1.331148\n",
       "1  1.820553 -0.634668\n",
       "2  0.986321 -1.888576\n",
       "3  1.944373 -1.635452\n",
       "4  0.976734 -1.353315"
      ]
     },
     "execution_count": 2,
     "metadata": {},
     "output_type": "execute_result"
    }
   ],
   "source": [
    "df_x = pd.read_csv(\"./data/logistic_x.txt\", sep=\"\\ +\", names=[\"x1\",\"x2\"], header=None, engine='python')\n",
    "df_y = pd.read_csv('./data/logistic_y.txt', sep='\\ +', names=[\"y\"], header=None, engine='python')\n",
    "df_y = df_y.astype(int)\n",
    "df_x.head()"
   ]
  },
  {
   "cell_type": "code",
   "execution_count": 3,
   "metadata": {},
   "outputs": [
    {
     "data": {
      "text/html": [
       "<div>\n",
       "<style scoped>\n",
       "    .dataframe tbody tr th:only-of-type {\n",
       "        vertical-align: middle;\n",
       "    }\n",
       "\n",
       "    .dataframe tbody tr th {\n",
       "        vertical-align: top;\n",
       "    }\n",
       "\n",
       "    .dataframe thead th {\n",
       "        text-align: right;\n",
       "    }\n",
       "</style>\n",
       "<table border=\"1\" class=\"dataframe\">\n",
       "  <thead>\n",
       "    <tr style=\"text-align: right;\">\n",
       "      <th></th>\n",
       "      <th>y</th>\n",
       "    </tr>\n",
       "  </thead>\n",
       "  <tbody>\n",
       "    <tr>\n",
       "      <th>0</th>\n",
       "      <td>-1</td>\n",
       "    </tr>\n",
       "    <tr>\n",
       "      <th>1</th>\n",
       "      <td>-1</td>\n",
       "    </tr>\n",
       "    <tr>\n",
       "      <th>2</th>\n",
       "      <td>-1</td>\n",
       "    </tr>\n",
       "    <tr>\n",
       "      <th>3</th>\n",
       "      <td>-1</td>\n",
       "    </tr>\n",
       "    <tr>\n",
       "      <th>4</th>\n",
       "      <td>-1</td>\n",
       "    </tr>\n",
       "  </tbody>\n",
       "</table>\n",
       "</div>"
      ],
      "text/plain": [
       "   y\n",
       "0 -1\n",
       "1 -1\n",
       "2 -1\n",
       "3 -1\n",
       "4 -1"
      ]
     },
     "execution_count": 3,
     "metadata": {},
     "output_type": "execute_result"
    }
   ],
   "source": [
    "df_y.head()"
   ]
  },
  {
   "cell_type": "markdown",
   "metadata": {},
   "source": [
    "Let's get the NumPy arrays from the dataset, and add a column of 1's to $X$ to take into account the zero intercept"
   ]
  },
  {
   "cell_type": "code",
   "execution_count": 4,
   "metadata": {},
   "outputs": [],
   "source": [
    "x = np.hstack([np.ones((df_x.shape[0], 1)), df_x[[\"x1\",\"x2\"]].values])\n",
    "y = df_y[\"y\"].values"
   ]
  },
  {
   "cell_type": "markdown",
   "metadata": {},
   "source": [
    "Adjust y so that $y^{(i)}\\in [0,1]$"
   ]
  },
  {
   "cell_type": "markdown",
   "metadata": {},
   "source": [
    "################# Do not write above this line #################"
   ]
  },
  {
   "cell_type": "markdown",
   "metadata": {},
   "source": [
    "Your code here"
   ]
  },
  {
   "cell_type": "code",
   "execution_count": 5,
   "metadata": {},
   "outputs": [],
   "source": [
    "y = [0 if y[i]==-1 else 1 for i in range(len(y))]"
   ]
  },
  {
   "cell_type": "markdown",
   "metadata": {},
   "source": [
    "################# Do not write below this line #################"
   ]
  },
  {
   "cell_type": "code",
   "execution_count": 6,
   "metadata": {},
   "outputs": [
    {
     "data": {
      "text/plain": [
       "[array([[ 1.        ,  1.3432504 , -1.3311479 ],\n",
       "        [ 1.        ,  1.8205529 , -0.6346681 ],\n",
       "        [ 1.        ,  0.98632067, -1.8885762 ],\n",
       "        [ 1.        ,  1.9443734 , -1.635452  ],\n",
       "        [ 1.        ,  0.97673352, -1.3533151 ]]),\n",
       " array([[ 1.        ,  4.7748538 ,  0.09941521],\n",
       "        [ 1.        ,  5.8274854 , -0.69005848],\n",
       "        [ 1.        ,  2.2894737 ,  1.9707602 ],\n",
       "        [ 1.        ,  2.494152  ,  1.4152047 ],\n",
       "        [ 1.        ,  2.0847953 ,  1.3567251 ]])]"
      ]
     },
     "execution_count": 6,
     "metadata": {},
     "output_type": "execute_result"
    }
   ],
   "source": [
    "[x[:5,:],x[-5:,:]] # Plot the first and last 5 lines of x, now containing features x0 (constant=1), x1 and x2"
   ]
  },
  {
   "cell_type": "code",
   "execution_count": 7,
   "metadata": {},
   "outputs": [
    {
     "data": {
      "text/plain": [
       "[[0, 0, 0, 0, 0], [1, 1, 1, 1, 1]]"
      ]
     },
     "execution_count": 7,
     "metadata": {},
     "output_type": "execute_result"
    }
   ],
   "source": [
    "[y[:5],y[-5:]] # Plot the first and last 5 lines of y"
   ]
  },
  {
   "cell_type": "markdown",
   "metadata": {},
   "source": [
    "Define the sigmoid function \"sigmoid\", the function to compute the gradient of the log likelihood  \"grad_l\" and the gradient ascent algorithm."
   ]
  },
  {
   "cell_type": "markdown",
   "metadata": {},
   "source": [
    "################# Do not write above this line #################"
   ]
  },
  {
   "cell_type": "markdown",
   "metadata": {},
   "source": [
    "Your code here"
   ]
  },
  {
   "cell_type": "code",
   "execution_count": 8,
   "metadata": {},
   "outputs": [],
   "source": [
    "def sigmoid(x):\n",
    "    return 1/(1+np.exp(-x))\n",
    "\n",
    "def log_likelihood(theta,x,y):\n",
    "    l = 0\n",
    "    theta = np.array(theta)\n",
    "    x = np.array(x)\n",
    "    y = np.array(y)\n",
    "    \n",
    "    for i in range(len(y)):\n",
    "        theta_x = np.sum(theta.T * x[i])\n",
    "\n",
    "        l += y[i] * np.log(sigmoid(theta_x)) + (1 - y[i]) * np.log(1 - sigmoid(theta_x))\n",
    "    \n",
    "    return l/len(y)\n",
    "\n",
    "def grad_l(theta, x, y):\n",
    "    G = 0\n",
    "    for i in range(len(y)):\n",
    "        theta_x = np.sum(theta.T * x[i])\n",
    "        G += (y[i] - sigmoid(theta_x)) * x[i]\n",
    "\n",
    "    return G/len(y)\n",
    "\n",
    "def gradient_ascent(theta,x,y,G,alpha=0.01,iterations=100):\n",
    "\n",
    "    m = len(y)\n",
    "    \n",
    "    log_l_history = np.zeros(iterations)\n",
    "    theta_history = np.zeros((iterations,len(theta)))\n",
    "    \n",
    "    for i in range(iterations):\n",
    "        grad = G(theta, x, y)\n",
    "        \n",
    "        theta += alpha * grad\n",
    "\n",
    "        log_l_history[i] = log_likelihood(theta,x,y)\n",
    "        theta_history[i] = theta\n",
    "\n",
    "    return theta, log_l_history, theta_history"
   ]
  },
  {
   "cell_type": "markdown",
   "metadata": {},
   "source": [
    "################# Do not write below this line #################"
   ]
  },
  {
   "cell_type": "markdown",
   "metadata": {},
   "source": [
    "Check your grad_l implementation:\n",
    "grad_l applied to the theta_test (defined below) should provide a value for log_l_test close to the target_value (defined below); in other words the error_test should be 0, up to machine error precision."
   ]
  },
  {
   "cell_type": "code",
   "execution_count": 9,
   "metadata": {},
   "outputs": [
    {
     "name": "stdout",
     "output_type": "stream",
     "text": [
      "0.000000\n"
     ]
    }
   ],
   "source": [
    "target_value = -0.4250958770469834\n",
    "theta_test=np.array([-2,1,2])\n",
    "\n",
    "log_l_test  = log_likelihood(theta_test,x,y)\n",
    "\n",
    "error_test=np.abs(log_l_test-target_value)\n",
    "\n",
    "print(\"{:f}\".format(error_test))"
   ]
  },
  {
   "cell_type": "markdown",
   "metadata": {},
   "source": [
    "Let's now apply the function gradient_ascent and print the final theta as well as theta_history "
   ]
  },
  {
   "cell_type": "code",
   "execution_count": 66,
   "metadata": {},
   "outputs": [
    {
     "name": "stdout",
     "output_type": "stream",
     "text": [
      "[-2.59231195  0.75417208  1.1698921 ]\n",
      "[[-2.52525253e-05  2.40752765e-03  2.77415313e-03]\n",
      " [-6.10674374e-05  4.76028313e-03  5.53928356e-03]\n",
      " [-1.07165666e-04  7.05962320e-03  8.29537492e-03]\n",
      " ...\n",
      " [-2.59230724e+00  7.54171048e-01  1.16989176e+00]\n",
      " [-2.59230960e+00  7.54171566e-01  1.16989193e+00]\n",
      " [-2.59231195e+00  7.54172084e-01  1.16989210e+00]]\n"
     ]
    }
   ],
   "source": [
    "# Initialize theta0\n",
    "theta0 = np.zeros(x.shape[1])\n",
    "\n",
    "# Run Gradient Ascent method\n",
    "\n",
    "n_iter=50000\n",
    "theta_final, log_l_history, theta_history = gradient_ascent(theta0,x,y,grad_l,alpha=0.005,iterations=n_iter)\n",
    "print(theta_final)\n",
    "print(theta_history)"
   ]
  },
  {
   "cell_type": "markdown",
   "metadata": {},
   "source": [
    "Let's plot the log likelihood over iterations"
   ]
  },
  {
   "cell_type": "code",
   "execution_count": 67,
   "metadata": {},
   "outputs": [
    {
     "data": {
      "image/png": "[encoded data removed]",
      "text/plain": [
       "<Figure size 432x288 with 1 Axes>"
      ]
     },
     "metadata": {
      "needs_background": "light"
     },
     "output_type": "display_data"
    }
   ],
   "source": [
    "fig,ax = plt.subplots(num=2)\n",
    "\n",
    "ax.set_ylabel('l(Theta)')\n",
    "ax.set_xlabel('Iterations')\n",
    "_=ax.plot(range(len(log_l_history)),log_l_history,'b.')"
   ]
  },
  {
   "cell_type": "markdown",
   "metadata": {},
   "source": [
    "Plot the data and the decision boundary:"
   ]
  },
  {
   "cell_type": "code",
   "execution_count": 68,
   "metadata": {},
   "outputs": [
    {
     "data": {
      "text/html": [
       "<div>\n",
       "<style scoped>\n",
       "    .dataframe tbody tr th:only-of-type {\n",
       "        vertical-align: middle;\n",
       "    }\n",
       "\n",
       "    .dataframe tbody tr th {\n",
       "        vertical-align: top;\n",
       "    }\n",
       "\n",
       "    .dataframe thead th {\n",
       "        text-align: right;\n",
       "    }\n",
       "</style>\n",
       "<table border=\"1\" class=\"dataframe\">\n",
       "  <thead>\n",
       "    <tr style=\"text-align: right;\">\n",
       "      <th></th>\n",
       "      <th>y</th>\n",
       "      <th>x1</th>\n",
       "      <th>x2</th>\n",
       "    </tr>\n",
       "  </thead>\n",
       "  <tbody>\n",
       "    <tr>\n",
       "      <th>0</th>\n",
       "      <td>-1</td>\n",
       "      <td>1.343250</td>\n",
       "      <td>-1.331148</td>\n",
       "    </tr>\n",
       "    <tr>\n",
       "      <th>1</th>\n",
       "      <td>-1</td>\n",
       "      <td>1.820553</td>\n",
       "      <td>-0.634668</td>\n",
       "    </tr>\n",
       "    <tr>\n",
       "      <th>2</th>\n",
       "      <td>-1</td>\n",
       "      <td>0.986321</td>\n",
       "      <td>-1.888576</td>\n",
       "    </tr>\n",
       "    <tr>\n",
       "      <th>3</th>\n",
       "      <td>-1</td>\n",
       "      <td>1.944373</td>\n",
       "      <td>-1.635452</td>\n",
       "    </tr>\n",
       "    <tr>\n",
       "      <th>4</th>\n",
       "      <td>-1</td>\n",
       "      <td>0.976734</td>\n",
       "      <td>-1.353315</td>\n",
       "    </tr>\n",
       "  </tbody>\n",
       "</table>\n",
       "</div>"
      ],
      "text/plain": [
       "   y        x1        x2\n",
       "0 -1  1.343250 -1.331148\n",
       "1 -1  1.820553 -0.634668\n",
       "2 -1  0.986321 -1.888576\n",
       "3 -1  1.944373 -1.635452\n",
       "4 -1  0.976734 -1.353315"
      ]
     },
     "execution_count": 68,
     "metadata": {},
     "output_type": "execute_result"
    }
   ],
   "source": [
    "df_x_pl=df_x.copy()\n",
    "df_y_pl=df_y.copy()\n",
    "df_x_pl.insert(0, \"y\", df_y)\n",
    "df_x_pl[\"y\"] = pd.to_numeric(df_x_pl[\"y\"], downcast='signed')\n",
    "df_x_pl.head()"
   ]
  },
  {
   "cell_type": "code",
   "execution_count": 69,
   "metadata": {},
   "outputs": [
    {
     "data": {
      "image/png": "[encoded data removed]",
      "text/plain": [
       "<Figure size 432x288 with 1 Axes>"
      ]
     },
     "metadata": {
      "needs_background": "light"
     },
     "output_type": "display_data"
    }
   ],
   "source": [
    "# Generate vector to plot decision boundary\n",
    "x1_vec = np.linspace(df_x_pl[\"x1\"].min(),df_x_pl[\"x1\"].max(),2);\n",
    "\n",
    "# Plot raw data\n",
    "sns.scatterplot(x=\"x1\", y=\"x2\", hue=\"y\", data=df_x_pl);\n",
    "\n",
    "# Plot decision boundary\n",
    "plt.plot(x1_vec,(-x1_vec*theta_final[1]-theta_final[0])/theta_final[2], color=\"red\");\n",
    "\n",
    "# Save the theta_final value for later comparisons\n",
    "theta_GA = theta_final.copy()"
   ]
  },
  {
   "cell_type": "markdown",
   "metadata": {},
   "source": [
    "################# Do not write above this line #################"
   ]
  },
  {
   "cell_type": "markdown",
   "metadata": {},
   "source": [
    "Write now your considerations. Discuss in particular:\n",
    "- what effects do the learning rate $\\alpha$ and the number of iterations have on the computed $\\theta$\n",
    "- may you still achieve the same value if you decrease the learning rate $\\alpha$ and increase the number of iterations n_iter up to an infinite number of them? Why?\n",
    "- may you still achieve the same value if you increase the learning rate $\\alpha$ substantially and decrease the number of iterations n_iter? Why?\n",
    "\n",
    "Substantiate your answer with experiments and plots of the $l(\\theta)$ and the decision boundary.\n",
    "\n",
    "With a smaller learning rate $\\alpha$ the gradient ascent converge slower, hence with lesser iterations the algorithm doesn't learn the optimal theta.\n",
    "We did some experiments:\n",
    "\n",
    "***$\\alpha$ = 0.5 iterations = 200***\n",
    "\n",
    "With those parameters it converges.\n",
    "\n",
    "![curve_alpha_0.5-it_200](./img/curve_alpha_0.5-it_200.png)\n",
    "\n",
    "![theta_alpha_0.5-it_200](./img/thetas/alpha_0.5-it_200.png)\n",
    "\n",
    "\n",
    "***$\\alpha$ = 0.05 iterations = 5000***\n",
    "\n",
    "With those parameters it converges.\n",
    "\n",
    "![theta_alpha_0.05-it_5000](./img/thetas/alpha_0.05-it_5000.png)\n",
    "\n",
    "***$\\alpha$ = 0.005 iterations = 1000***\n",
    "\n",
    "Instead, with this parameters it doesn't converge.\n",
    "![curve_alpha_0.005-it_1000](./img/curve_alpha_0.005-it_1000.png)\n",
    "\n",
    "![theta_alpha_0.005-it_1000](./img/thetas/alpha_0.005-it_1000.png)\n",
    "\n",
    "\n",
    "Since we know that, what does it happen when the learning rate is small and the iterations are infinite? \n",
    "\n",
    "Well, for computational and time reasons we can't run the algorithm up to an infinite number but we can see what happens when the iterations are a lot. Theorically the step it makes at each iteration becomes smaller and smaller, so it might never reach an optimal $\\theta$.\n",
    "\n",
    "Practically we saw that for $\\alpha$ = 0.005 and for 1000 iterations it doesn't converge. We then ran our experiment for 10000 iterations and it also doesn't converge (as we see for the theta values, compared to $\\alpha$ = 0.5):\n",
    "\n",
    "![theta_alpha_0.005-it_10000](./img/thetas/alpha_0.005-it_10000.png)\n",
    "![curve_alpha_0.005-it_10000](./img/curve_alpha_0.005-it_10000.png)\n",
    "\n",
    "But it does converge for 50000 iterations:\n",
    "![theta_alpha_0.005-it_50000](./img/thetas/alpha_0.005-it_50000.png)\n",
    "![curve_alpha_0.005-it_50000](./img/curve_alpha_0.005-it_50000.png)\n",
    "\n",
    "\n",
    "Therefore we saw that for a smaller $\\alpha$ it converges a lot slower.\n",
    "\n",
    "On the other hand, when $\\alpha$ is larger, the algorithm converges faster. We picked an $\\alpha$ = 0.5 to see this.\n",
    "\n",
    "We first ran the experiment with 5000 iterations, which yelds to a convergence but it does a lot of useless computations:\n",
    "![curve_alpha_0.5-it_5000](./img/curve_alpha_0.5-it_5000.png)\n",
    "\n",
    "The red line indicates (more or less) the convergence point, which as we can see is lesser than 500 iterations. So we ran thee algorithm with 200 iterations and as you can see in the plot above (in the very first part of the answer), it converges pretty fast.\n",
    "\n",
    "This is how the classification looks like:\n",
    "![alpha_0.5-it_200](./img/alpha_0.5-it_200.png)"
   ]
  },
  {
   "cell_type": "markdown",
   "metadata": {},
   "source": [
    "################# Do not write below this line #################"
   ]
  },
  {
   "cell_type": "markdown",
   "metadata": {},
   "source": [
    "\n",
    "## [15 points] Question 2: Logistic Regression with the Newton's method"
   ]
  },
  {
   "cell_type": "markdown",
   "metadata": {},
   "source": [
    "### (a) [5 points] Equations for the Hessian of the log likelihood\n",
    "\n",
    "Derive the equation for the Hessian matrix $H$ of the log-likelihood $l(\\theta)$ of the parameters $\\theta$.\n",
    "\n",
    "Recall that: $H_{i,j} = \\frac{\\delta^2 l(\\theta)}{\\delta \\theta_i \\delta \\theta_j}$\n",
    "\n",
    "Also write the parameter update rule for the Newton's method, as a function of the Hessian and gradient of $l(\\theta)$.\n",
    "\n",
    "Question: in order to learn the optimal $\\theta$, do you need to minimize or to maximize $\\nabla_{\\theta} l$?"
   ]
  },
  {
   "cell_type": "markdown",
   "metadata": {},
   "source": [
    "################# Do not write above this line #################"
   ]
  },
  {
   "cell_type": "markdown",
   "metadata": {},
   "source": [
    "Your equations and the answer to the question here."
   ]
  },
  {
   "cell_type": "markdown",
   "metadata": {},
   "source": [
    "################# Do not write below this line #################"
   ]
  },
  {
   "cell_type": "markdown",
   "metadata": {},
   "source": [
    "### (b) [10 points] Implementation of logistic regression with the Newton's method\n",
    "\n",
    "Code up the equations above to learn the logistic regression parameters. Consider as data the files logistic_x.txt and logistic_y.txt. The first contains the feature values  $x^{(i)}_1$ and $x^{(i)}_2$  for the  𝑖 -th data sample  $x^{(i)}$ . The second contains the ground truth label  $y^{(i)}$  for each corresponding data sample."
   ]
  },
  {
   "cell_type": "markdown",
   "metadata": {},
   "source": [
    "Define the Hessian function hess_l and the Newton's method function \"newton\":"
   ]
  },
  {
   "cell_type": "markdown",
   "metadata": {},
   "source": [
    "################# Do not write above this line #################"
   ]
  },
  {
   "cell_type": "markdown",
   "metadata": {},
   "source": [
    "Your code here"
   ]
  },
  {
   "cell_type": "code",
   "execution_count": 14,
   "metadata": {},
   "outputs": [],
   "source": [
    "def hess_l(theta, x, y):\n",
    "        z = np.dot(x, theta)\n",
    "        p = sigmoid(z)\n",
    "        w = np.diag(p * (1 - p))\n",
    "        hessian = -x.T.dot(w).dot(x)\n",
    "        return hessian/len(y)\n",
    "\n",
    "\n",
    "\n",
    "def newton(theta0, x, y, G, H, eps):\n",
    "    # compute this operation steap by step to have theta history\n",
    "    # compute also the log_l to have the log_l_history\n",
    "    # the function that i write do all togheter but i'm not sure\n",
    "\n",
    "    gradient = G(theta0, x, y)\n",
    "    hessian = H(theta0, x, y)\n",
    "    \n",
    "    step = np.dot(np.linalg.inv(hessian), gradient)\n",
    "    \n",
    "    theta_final = theta0 - step\n",
    "    \n",
    "    return theta_final, theta_history, log_l_history"
   ]
  },
  {
   "cell_type": "markdown",
   "metadata": {},
   "source": [
    "################# Do not write below this line #################"
   ]
  },
  {
   "cell_type": "markdown",
   "metadata": {},
   "source": [
    "Check your hess_l implementation: hess_l applied to the theta_test (defined below) should provide a value for hess_l_test close to the target_value (defined below); in other words the error_test should be 0, up to machine error precision."
   ]
  },
  {
   "cell_type": "code",
   "execution_count": 15,
   "metadata": {},
   "outputs": [
    {
     "name": "stdout",
     "output_type": "stream",
     "text": [
      "2.879550\n"
     ]
    }
   ],
   "source": [
    "target_value = np.array([[-0.14357024, -0.43836134,  0.18767787], \\\n",
    "                         [-0.43836134, -1.72295801,  0.61817001], \\\n",
    "                         [ 0.18767787,  0.61817001, -0.51247901]])\n",
    "theta_test=np.array([-2,1,2])\n",
    "\n",
    "hess_l_test  = hess_l(theta_test,x,y)\n",
    "error_test=np.sum(np.abs(hess_l_test-target_value),axis=(0,1))\n",
    "\n",
    "print(\"{:f}\".format(error_test))"
   ]
  },
  {
   "cell_type": "markdown",
   "metadata": {},
   "source": [
    "Now run Newton's method to perform logistic regression:"
   ]
  },
  {
   "cell_type": "code",
   "execution_count": 16,
   "metadata": {},
   "outputs": [
    {
     "name": "stdout",
     "output_type": "stream",
     "text": [
      "[-1.50983811  0.43509696  0.62161752]\n"
     ]
    }
   ],
   "source": [
    "# Initialize theta0\n",
    "theta0 = np.zeros(x.shape[1])\n",
    "\n",
    "# Run Newton's method\n",
    "theta_final, theta_history, log_l_history = newton(theta0,x,y,grad_l,hess_l,1e-6)\n",
    "print(theta_final)"
   ]
  },
  {
   "cell_type": "markdown",
   "metadata": {},
   "source": [
    "Let's plot the log likelihood over iterations"
   ]
  },
  {
   "cell_type": "code",
   "execution_count": 17,
   "metadata": {},
   "outputs": [
    {
     "data": {
      "image/png": "[encoded data removed]",
      "text/plain": [
       "<Figure size 432x288 with 1 Axes>"
      ]
     },
     "metadata": {
      "needs_background": "light"
     },
     "output_type": "display_data"
    }
   ],
   "source": [
    "fig,ax = plt.subplots(num=2)\n",
    "\n",
    "ax.set_ylabel('l(Theta)')\n",
    "ax.set_xlabel('Iterations')\n",
    "_=ax.plot(range(len(log_l_history)),log_l_history,'b.')"
   ]
  },
  {
   "cell_type": "markdown",
   "metadata": {},
   "source": [
    "Plot the data and our decision boundary:"
   ]
  },
  {
   "cell_type": "code",
   "execution_count": 18,
   "metadata": {},
   "outputs": [
    {
     "data": {
      "text/html": [
       "<div>\n",
       "<style scoped>\n",
       "    .dataframe tbody tr th:only-of-type {\n",
       "        vertical-align: middle;\n",
       "    }\n",
       "\n",
       "    .dataframe tbody tr th {\n",
       "        vertical-align: top;\n",
       "    }\n",
       "\n",
       "    .dataframe thead th {\n",
       "        text-align: right;\n",
       "    }\n",
       "</style>\n",
       "<table border=\"1\" class=\"dataframe\">\n",
       "  <thead>\n",
       "    <tr style=\"text-align: right;\">\n",
       "      <th></th>\n",
       "      <th>y</th>\n",
       "      <th>x1</th>\n",
       "      <th>x2</th>\n",
       "    </tr>\n",
       "  </thead>\n",
       "  <tbody>\n",
       "    <tr>\n",
       "      <th>0</th>\n",
       "      <td>-1</td>\n",
       "      <td>1.343250</td>\n",
       "      <td>-1.331148</td>\n",
       "    </tr>\n",
       "    <tr>\n",
       "      <th>1</th>\n",
       "      <td>-1</td>\n",
       "      <td>1.820553</td>\n",
       "      <td>-0.634668</td>\n",
       "    </tr>\n",
       "    <tr>\n",
       "      <th>2</th>\n",
       "      <td>-1</td>\n",
       "      <td>0.986321</td>\n",
       "      <td>-1.888576</td>\n",
       "    </tr>\n",
       "    <tr>\n",
       "      <th>3</th>\n",
       "      <td>-1</td>\n",
       "      <td>1.944373</td>\n",
       "      <td>-1.635452</td>\n",
       "    </tr>\n",
       "    <tr>\n",
       "      <th>4</th>\n",
       "      <td>-1</td>\n",
       "      <td>0.976734</td>\n",
       "      <td>-1.353315</td>\n",
       "    </tr>\n",
       "  </tbody>\n",
       "</table>\n",
       "</div>"
      ],
      "text/plain": [
       "   y        x1        x2\n",
       "0 -1  1.343250 -1.331148\n",
       "1 -1  1.820553 -0.634668\n",
       "2 -1  0.986321 -1.888576\n",
       "3 -1  1.944373 -1.635452\n",
       "4 -1  0.976734 -1.353315"
      ]
     },
     "execution_count": 18,
     "metadata": {},
     "output_type": "execute_result"
    }
   ],
   "source": [
    "df_x_pl=df_x.copy()\n",
    "df_y_pl=df_y.copy()\n",
    "df_x_pl.insert(0, \"y\", df_y)\n",
    "df_x_pl[\"y\"] = pd.to_numeric(df_x_pl[\"y\"],downcast='signed')\n",
    "df_x_pl.head()"
   ]
  },
  {
   "cell_type": "code",
   "execution_count": 19,
   "metadata": {},
   "outputs": [
    {
     "data": {
      "image/png": "[encoded data removed]",
      "text/plain": [
       "<Figure size 432x288 with 1 Axes>"
      ]
     },
     "metadata": {
      "needs_background": "light"
     },
     "output_type": "display_data"
    }
   ],
   "source": [
    "# Generate vector to plot decision boundary\n",
    "x1_vec = np.linspace(df_x_pl[\"x1\"].min(),df_x_pl[\"x1\"].max(),2);\n",
    "\n",
    "# Plot raw data\n",
    "sns.scatterplot(x=\"x1\", y=\"x2\", hue=\"y\", data=df_x_pl);\n",
    "\n",
    "# Plot decision boundary\n",
    "plt.plot(x1_vec,(-x1_vec*theta_final[1]-theta_final[0])/theta_final[2], color=\"red\");"
   ]
  },
  {
   "cell_type": "markdown",
   "metadata": {},
   "source": [
    "################# Do not write above this line #################"
   ]
  },
  {
   "cell_type": "markdown",
   "metadata": {},
   "source": [
    "Write now your considerations. Discuss in particular:\n",
    "- the different convergence speed of the Newton's method, compared to Gradient Ascent\n",
    "- the incurred cost for the different convergence speed"
   ]
  },
  {
   "cell_type": "markdown",
   "metadata": {},
   "source": [
    "################# Do not write below this line #################"
   ]
  },
  {
   "cell_type": "markdown",
   "metadata": {},
   "source": [
    "\n",
    "## [7 points] Question 3: Logistic Regression with non linear boundaries"
   ]
  },
  {
   "cell_type": "markdown",
   "metadata": {},
   "source": [
    "### (a) Polynomial features for logistic regression\n",
    "\n",
    "Define new features, e.g. of 2nd and 3rd degrees, and learn a logistic regression classifier by using the new features, by using the Newton's optimization algorithm (or the gradient ascent one, if you like)."
   ]
  },
  {
   "cell_type": "markdown",
   "metadata": {},
   "source": [
    "In particular, we would consider a polynomial boundary with equation:\n",
    "\n",
    "$f(x_1, x_2) = c_0 + c_1 x_1 + c_2 x_2 + c_3 x_1^2 + c_4 x_2^2 + c_5 x_1 x_2 + c_6 x_1^3 + c_7 x_2^3 + c_8 x_1^2 x_2 + c_9 x_1 x_2^2$\n",
    "\n",
    "We would therefore compute 7 new features: 3 new ones for the quadratic terms and 4 new ones for the cubic terms.\n",
    "\n",
    "Create new arrays by stacking x (from the previous questions) and the new 7 features (in the order x1x1, x2x2, x1x2, x1x1x1, x2x2x2, x1x1x2, x1x2x2). In particular create x_new_quad by additionally stacking with x the quadratic features, and x_new_cubic by additionally stacking with x the quadratic and the cubic features."
   ]
  },
  {
   "cell_type": "code",
   "execution_count": 20,
   "metadata": {},
   "outputs": [
    {
     "name": "stdout",
     "output_type": "stream",
     "text": [
      "[[ 1.          1.3432504  -1.3311479 ]\n",
      " [ 1.          1.8205529  -0.6346681 ]\n",
      " [ 1.          0.98632067 -1.8885762 ]\n",
      " [ 1.          1.9443734  -1.635452  ]\n",
      " [ 1.          0.97673352 -1.3533151 ]]\n",
      "[[1.3432504 ]\n",
      " [1.8205529 ]\n",
      " [0.98632067]\n",
      " [1.9443734 ]\n",
      " [0.97673352]]\n",
      "[[-1.3311479]\n",
      " [-0.6346681]\n",
      " [-1.8885762]\n",
      " [-1.635452 ]\n",
      " [-1.3533151]]\n"
     ]
    }
   ],
   "source": [
    "# First extract features x1 and x2 from x and reshape them to x1 vector arrays\n",
    "x1 = x[:,1]\n",
    "x2 = x[:,2]\n",
    "x1 = x1.reshape(x1.shape[0], 1)\n",
    "x2 = x2.reshape(x2.shape[0], 1)\n",
    "print(x[:5,:]) # For visualization of the first 5 values\n",
    "print(x1[:5,:]) # For visualization of the first 5 values\n",
    "print(x2[:5,:]) # For visualization of the first 5 values"
   ]
  },
  {
   "cell_type": "markdown",
   "metadata": {},
   "source": [
    "################# Do not write above this line #################"
   ]
  },
  {
   "cell_type": "markdown",
   "metadata": {},
   "source": [
    "Your code here"
   ]
  },
  {
   "cell_type": "code",
   "execution_count": 21,
   "metadata": {},
   "outputs": [
    {
     "name": "stdout",
     "output_type": "stream",
     "text": [
      "[[ 1.00000000e+00  1.34325040e+00 -1.33114790e+00  1.80432164e+00\n",
      "   1.77195473e+00 -1.78806495e+00  2.42365576e+00 -2.35873382e+00\n",
      "  -2.40181896e+00  2.38017890e+00]\n",
      " [ 1.00000000e+00  1.82055290e+00 -6.34668100e-01  3.31441286e+00\n",
      "   4.02803597e-01 -1.15544685e+00  6.03406395e+00 -2.55646594e-01\n",
      "  -2.10355211e+00  7.33325257e-01]\n",
      " [ 1.00000000e+00  9.86320670e-01 -1.88857620e+00  9.72828464e-01\n",
      "   3.56672006e+00 -1.86274174e+00  9.59520822e-01 -6.73602262e+00\n",
      "  -1.83726068e+00  3.51792972e+00]\n",
      " [ 1.00000000e+00  1.94437340e+00 -1.63545200e+00  3.78058792e+00\n",
      "   2.67470324e+00 -3.17992937e+00  7.35087459e+00 -4.37434877e+00\n",
      "  -6.18297007e+00  5.20062184e+00]\n",
      " [ 1.00000000e+00  9.76733520e-01 -1.35331510e+00  9.54008369e-01\n",
      "   1.83146176e+00 -1.32182822e+00  9.31811952e-01 -2.47854485e+00\n",
      "  -1.29107393e+00  1.78885009e+00]\n",
      " [ 1.00000000e+00  1.94585840e+00 -2.04432780e+00  3.78636491e+00\n",
      "   4.17927615e+00 -3.97797242e+00  7.36772997e+00 -8.54381043e+00\n",
      "  -7.74057105e+00  8.13227961e+00]\n",
      " [ 1.00000000e+00  2.10751530e+00 -2.12566840e+00  4.44162074e+00\n",
      "   4.51846615e+00 -4.47987868e+00  9.36078367e+00 -9.60476070e+00\n",
      "  -9.44141285e+00  9.52273654e+00]\n",
      " [ 1.00000000e+00  2.07037300e+00 -2.46341010e+00  4.28644436e+00\n",
      "   6.06838932e+00 -5.10017776e+00  8.87453867e+00 -1.49489315e+01\n",
      "  -1.05592703e+01  1.25638294e+01]\n",
      " [ 1.00000000e+00  8.68649640e-01 -2.41193480e+00  7.54552197e-01\n",
      "   5.81742948e+00 -2.09512630e+00  6.55441494e-01 -1.40312606e+01\n",
      "  -1.81993070e+00  5.05330802e+00]\n",
      " [ 1.00000000e+00  1.80065940e+00 -2.77396890e+00  3.24237427e+00\n",
      "   7.69490346e+00 -4.99497318e+00  5.83841172e+00 -2.13454229e+01\n",
      "  -8.99424540e+00  1.38559002e+01]\n",
      " [ 1.00000000e+00  3.12837870e+00 -3.44524320e+00  9.78675329e+00\n",
      "   1.18697007e+01 -1.07780254e+01  3.06166705e+01 -4.08940056e+01\n",
      "  -3.37177452e+01  3.71329189e+01]\n",
      " [ 1.00000000e+00  3.09474290e+00 -3.64461450e+00  9.57743362e+00\n",
      "   1.32832149e+01 -1.12791448e+01  2.96396947e+01 -4.84121975e+01\n",
      "  -3.49060534e+01  4.11081349e+01]\n",
      " [ 1.00000000e+00  2.90866520e+00 -4.00650370e+00  8.46033325e+00\n",
      "   1.60520719e+01 -1.16535779e+01  2.46082769e+01 -6.43126855e+01\n",
      "  -3.38963565e+01  4.66901029e+01]\n",
      " [ 1.00000000e+00  2.67703380e+00 -3.01985920e+00  7.16650997e+00\n",
      "   9.11954959e+00 -8.08426515e+00  1.91849894e+01 -2.75397557e+01\n",
      "  -2.16418511e+01  2.44133425e+01]\n",
      " [ 1.00000000e+00  2.74586710e+00 -2.71005610e+00  7.53978613e+00\n",
      "   7.34440407e+00 -7.44145388e+00  2.07032507e+01 -1.99037470e+01\n",
      "  -2.04332434e+01  2.01667575e+01]\n",
      " [ 1.00000000e+00  4.17146470e+00 -3.46224820e+00  1.74011177e+01\n",
      "   1.19871626e+01 -1.44426461e+01  7.25881484e+01 -4.15025321e+01\n",
      "  -6.02469886e+01  5.00040256e+01]\n",
      " [ 1.00000000e+00  3.93132200e+00 -2.10990440e+00  1.54552927e+01\n",
      "   4.45169658e+00 -8.29471359e+00  6.07597321e+01 -9.39265420e+00\n",
      "  -3.26091900e+01  1.75010527e+01]\n",
      " [ 1.00000000e+00  4.37868700e+00 -2.38047430e+00  1.91728998e+01\n",
      "   5.66665789e+00 -1.04233519e+01  8.39521273e+01 -1.34893335e+01\n",
      "  -4.56405953e+01  2.48125212e+01]\n",
      " [ 1.00000000e+00  4.80165650e+00 -3.38033440e+00  2.30559051e+01\n",
      "   1.14266607e+01 -1.62312046e+01  1.10706537e+02 -3.86259341e+01\n",
      "  -7.79366693e+01  5.48668994e+01]\n",
      " [ 1.00000000e+00  4.16610500e+00 -2.81388440e+00  1.73564309e+01\n",
      "   7.91794542e+00 -1.17229379e+01  7.23087134e+01 -2.22801831e+01\n",
      "  -4.88389901e+01  3.29869920e+01]\n",
      " [ 1.00000000e+00  2.46701410e+00 -1.61084440e+00  6.08615857e+00\n",
      "   2.59481968e+00 -3.97397585e+00  1.50146390e+01 -4.17985075e+00\n",
      "  -9.80385445e+00  6.40145674e+00]\n",
      " [ 1.00000000e+00  3.48267430e+00 -1.55338720e+00  1.21290203e+01\n",
      "   2.41301179e+00 -5.40994168e+00  4.22414272e+01 -3.74834163e+00\n",
      "  -1.88410649e+01  8.40373416e+00]\n",
      " [ 1.00000000e+00  3.36524820e+00 -1.81649360e+00  1.13248954e+01\n",
      "   3.29964900e+00 -6.11295182e+00  3.81110840e+01 -5.99379129e+00\n",
      "  -2.05716001e+01  1.11041379e+01]\n",
      " [ 1.00000000e+00  2.87727880e+00 -1.85116890e+00  8.27873329e+00\n",
      "   3.42682630e+00 -5.32632903e+00  2.38202238e+01 -6.34363427e+00\n",
      "  -1.53253336e+01  9.85993465e+00]\n",
      " [ 1.00000000e+00  3.10904440e+00 -1.63849460e+00  9.66615708e+00\n",
      "   2.68466455e+00 -5.09415246e+00  3.00525115e+01 -4.39880837e+00\n",
      "  -1.58379462e+01  8.34674130e+00]\n",
      " [ 1.00000000e+00  2.21837010e+00  7.42795580e-02  4.92116590e+00\n",
      "   5.51745274e-03  1.64779551e-01  1.09169673e+01  4.09833951e-04\n",
      "   3.65542028e-01  1.22397522e-02]\n",
      " [ 1.00000000e+00  1.99498730e+00  1.62686590e-01  3.97997433e+00\n",
      "   2.64669266e-02  3.24557681e-01  7.93999824e+00  4.30581403e-03\n",
      "   6.47488452e-01  5.28011824e-02]\n",
      " [ 1.00000000e+00  2.95003080e+00  1.68730160e-02  8.70268172e+00\n",
      "   2.84698669e-04  4.97759169e-02  2.56731791e+01  4.80372520e-06\n",
      "   1.46840488e-01  8.39869842e-04]\n",
      " [ 1.00000000e+00  2.02160090e+00  1.72273870e-01  4.08687020e+00\n",
      "   2.96782863e-02  3.48269011e-01  8.26202047e+00  5.11279323e-03\n",
      "   7.04060945e-01  5.99976503e-02]\n",
      " [ 1.00000000e+00  2.04869210e+00 -6.35810410e-01  4.19713932e+00\n",
      "   4.04254877e-01 -1.30257976e+00  8.59864617e+00 -2.57029459e-01\n",
      "  -2.66858487e+00  8.28193774e-01]\n",
      " [ 1.00000000e+00  8.75485630e-01 -5.45861680e-01  7.66475088e-01\n",
      "   2.97964974e-01 -4.77894057e-01  6.71037926e-01 -1.62647661e-01\n",
      "  -4.18389379e-01  2.60864053e-01]\n",
      " [ 1.00000000e+00  5.70799410e-01 -3.32786600e-02  3.25811966e-01\n",
      "   1.10746921e-03 -1.89954395e-02  1.85973278e-01 -3.68550913e-05\n",
      "  -1.08425857e-02  6.32142772e-04]\n",
      " [ 1.00000000e+00  1.42664680e+00 -7.52883370e-01  2.03532109e+00\n",
      "   5.66833369e-01 -1.07409865e+00  2.90368432e+00 -4.26759417e-01\n",
      "  -1.53235940e+00  8.08671012e-01]\n",
      " [ 1.00000000e+00  7.22656330e-01 -8.66919300e-01  5.22232171e-01\n",
      "   7.51549073e-01 -6.26484720e-01  3.77394384e-01 -6.51532396e-01\n",
      "  -4.52733148e-01  5.43111695e-01]\n",
      " [ 1.00000000e+00  9.53461980e-01 -1.48969560e+00  9.09089747e-01\n",
      "   2.21919298e+00 -1.42036812e+00  8.66782510e-01 -3.30592202e+00\n",
      "  -1.35426700e+00  2.11591613e+00]\n",
      " [ 1.00000000e+00  4.83333330e+00  7.01754390e-02  2.33611108e+01\n",
      "   4.92459224e-03  3.39181286e-01  1.12912035e+02  3.45585422e-04\n",
      "   1.63937621e+00  2.38021957e-02]\n",
      " [ 1.00000000e+00  4.30701750e+00  1.41520470e+00  1.85503997e+01\n",
      "   2.00280434e+00  6.09531141e+00  7.98968963e+01  2.83437812e+00\n",
      "   2.62526129e+01  8.62611335e+00]\n",
      " [ 1.00000000e+00  6.03216370e+00  4.50292400e-01  3.63869989e+01\n",
      "   2.02763245e-01  2.71623747e+00  2.19492334e+02  9.13027484e-02\n",
      "   1.63847891e+01  1.22310109e+00]\n",
      " [ 1.00000000e+00  5.41812870e+00 -2.70760230e+00  2.93561186e+01\n",
      "   7.33111021e+00 -1.46701377e+01  1.59055229e+02 -1.98497309e+01\n",
      "  -7.94846943e+01  3.97208987e+01]\n",
      " [ 1.00000000e+00  3.45906430e+00 -2.82456140e+00  1.19651258e+01\n",
      "   7.97814710e+00 -9.77033950e+00  4.13881396e+01 -2.25347663e+01\n",
      "  -3.37962326e+01  2.75969238e+01]\n",
      " [ 1.00000000e+00  2.72807020e+00 -9.23976610e-01  7.44236702e+00\n",
      "   8.53732776e-01 -2.52067306e+00  2.03032997e+01 -7.88829116e-01\n",
      "  -6.87657305e+00  2.32904294e+00]\n",
      " [ 1.00000000e+00  1.00292400e+00  7.71929820e-01  1.00585655e+00\n",
      "   5.95875647e-01  7.74186943e-01  1.00879767e+00  4.59974181e-01\n",
      "   7.76450665e-01  5.97617987e-01]\n",
      " [ 1.00000000e+00  3.66374270e+00 -7.77777780e-01  1.34230106e+01\n",
      "   6.04938275e-01 -2.84957766e+00  4.91784570e+01 -4.70507549e-01\n",
      "  -1.04401194e+01  2.21633819e+00]\n",
      " [ 1.00000000e+00  4.30701750e+00 -1.04093570e+00  1.85503997e+01\n",
      "   1.08354713e+00 -4.48332828e+00  7.98968963e+01 -1.12790289e+00\n",
      "  -1.93097733e+01  4.66685646e+00]\n",
      " [ 1.00000000e+00  3.69298250e+00 -1.05263160e-01  1.36381197e+01\n",
      "   1.10803329e-02 -3.88735008e-01  5.03653376e+01 -1.16635085e-03\n",
      "  -1.43559158e+00  4.09194753e-02]\n",
      " [ 1.00000000e+00  5.73976610e+00 -1.62573100e+00  3.29449149e+01\n",
      "   2.64300128e+00 -9.33131568e+00  1.89096106e+02 -4.29680912e+00\n",
      "  -5.35595694e+01  1.51702092e+01]\n",
      " [ 1.00000000e+00  4.97953220e+00 -1.50877190e+00  2.47957409e+01\n",
      "   2.27639265e+00 -7.51297826e+00  1.23471190e+02 -3.43455726e+00\n",
      "  -3.74111172e+01  1.13353705e+01]\n",
      " [ 1.00000000e+00  6.50000000e+00 -2.91228070e+00  4.22500000e+01\n",
      "   8.48137888e+00 -1.89298245e+01  2.74625000e+02 -2.47001560e+01\n",
      "  -1.23043860e+02  5.51289627e+01]\n",
      " [ 1.00000000e+00  5.24269010e+00  9.18128650e-01  2.74857995e+01\n",
      "   8.42960218e-01  4.81346398e+00  1.44099529e+02  7.73945927e-01\n",
      "   2.52355000e+01  4.41937919e+00]\n",
      " [ 1.00000000e+00  1.67543860e+00  5.67251460e-01  2.80709450e+00\n",
      "   3.21774219e-01  9.50394992e-01  4.70311448e+00  1.82526895e-01\n",
      "   1.59232845e+00  5.39112947e-01]\n",
      " [ 1.00000000e+00  5.17089970e+00  1.21036670e+00  2.67382037e+01\n",
      "   1.46498755e+00  6.25868481e+00  1.38260570e+02  1.77317214e+00\n",
      "   3.23630314e+01  7.57530367e+00]\n",
      " [ 1.00000000e+00  4.87951880e+00  1.60818480e+00  2.38097037e+01\n",
      "   2.58625835e+00  7.84716797e+00  1.16179897e+02  4.15918137e+00\n",
      "   3.82904036e+01  1.26196962e+01]\n",
      " [ 1.00000000e+00  4.66498700e+00  1.06955320e+00  2.17621037e+01\n",
      "   1.14394405e+00  4.98945177e+00  1.01519931e+02  1.22350902e+00\n",
      "   2.32757277e+01  5.33648411e+00]\n",
      " [ 1.00000000e+00  4.49343210e+00  1.23515920e+00  2.01909320e+01\n",
      "   1.52561825e+00  5.55010400e+00  9.07265821e+01  1.88438142e+00\n",
      "   2.49390155e+01  6.85526201e+00]\n",
      " [ 1.00000000e+00  4.15129670e+00  8.67212600e-01  1.72332643e+01\n",
      "   7.52057694e-01  3.60005680e+00  7.15403932e+01  6.52193908e-01\n",
      "   1.49449039e+01  3.12201462e+00]\n",
      " [ 1.00000000e+00  3.71770800e+00  1.15172000e+00  1.38213528e+01\n",
      "   1.32645896e+00  4.28175866e+00  5.13837538e+01  1.52770931e+00\n",
      "   1.59183284e+01  4.93138708e+00]\n",
      " [ 1.00000000e+00  3.62244770e+00  1.31067690e+00  1.31221273e+01\n",
      "   1.71787394e+00  4.74785852e+00  4.75342200e+01  2.25157769e+00\n",
      "   1.71988692e+01  6.22290849e+00]\n",
      " [ 1.00000000e+00  3.06069430e+00  1.48571630e+00  9.36784960e+00\n",
      "   2.20735292e+00  4.54732341e+00  2.86721239e+01  3.27950022e+00\n",
      "   1.39179668e+01  6.75603251e+00]\n",
      " [ 1.00000000e+00  7.07184650e+00 -3.49616510e-01  5.00110129e+01\n",
      "   1.22231704e-01 -2.47243429e+00  3.53670207e+02 -4.27342218e-02\n",
      "  -1.74846758e+01  8.64403849e-01]\n",
      " [ 1.00000000e+00  6.03918320e+00 -2.47568320e-01  3.64717337e+01\n",
      "   6.12900731e-02 -1.49511044e+00  2.20259482e+02 -1.51734804e-02\n",
      "  -9.02924585e+00  3.70141980e-01]\n",
      " [ 1.00000000e+00  6.67474800e+00 -1.24847660e-01  4.45522609e+01\n",
      "   1.55869382e-02 -8.33326669e-01  2.97375114e+02 -1.94599276e-03\n",
      "  -5.56224552e+00  1.04038885e-01]\n",
      " [ 1.00000000e+00  6.84612910e+00  2.59771670e-01  4.68694837e+01\n",
      "   6.74813205e-02  1.77843039e+00  3.20874536e+02  1.75297353e-02\n",
      "   1.21753640e+01  4.61985832e-01]\n",
      " [ 1.00000000e+00  6.42707240e+00 -1.47138630e-01  4.13072596e+01\n",
      "   2.16497764e-02 -9.45670628e-01  2.65484748e+02 -3.18551844e-03\n",
      "  -6.07789359e+00  1.39144681e-01]\n",
      " [ 1.00000000e+00  6.84560650e+00  1.47549670e+00  4.68623284e+01\n",
      "   2.17709051e+00  1.01006698e+01  3.20801060e+02  3.21228987e+00\n",
      "   6.91452108e+01  1.49035050e+01]\n",
      " [ 1.00000000e+00  7.70540060e+00  1.60455550e+00  5.93731984e+01\n",
      "   2.57459835e+00  1.23637429e+01  4.57494279e+02  4.13108595e+00\n",
      "   9.52675921e+01  1.98383117e+01]\n",
      " [ 1.00000000e+00  6.28706580e+00  2.41564270e+00  3.95271964e+01\n",
      "   5.83532965e+00  1.51873046e+01  2.48510084e+02  1.40960715e+01\n",
      "   9.54835834e+01  3.66871015e+01]\n",
      " [ 1.00000000e+00  6.98109560e+00  1.25998650e+00  4.87356958e+01\n",
      "   1.58756598e+00  8.79608621e+00  3.40228551e+02  2.00031170e+00\n",
      "   6.14063187e+01  1.10829499e+01]\n",
      " [ 1.00000000e+00  7.09901720e+00  2.21551510e+00  5.03960452e+01\n",
      "   4.90850716e+00  1.57279798e+01  3.57762392e+02  1.08748717e+01\n",
      "   1.11653199e+02  3.48455767e+01]\n",
      " [ 1.00000000e+00  5.52754790e+00  2.99684210e-01  3.05537858e+01\n",
      "   8.98106257e-02  1.65651883e+00  1.68887514e+02  2.69148264e-02\n",
      "   9.15648716e+00  4.96432536e-01]\n",
      " [ 1.00000000e+00  5.83034890e+00 -2.19744080e-01  3.39929683e+01\n",
      "   4.82874607e-02 -1.28118466e+00  1.98190865e+02 -1.06108836e-02\n",
      "  -7.46975354e+00  2.81532743e-01]\n",
      " [ 1.00000000e+00  6.35945270e+00  2.39442170e-01  4.04426386e+01\n",
      "   5.73325528e-02  1.52272115e+00  2.57193048e+02  1.37278308e-02\n",
      "   9.68367316e+00  3.64603658e-01]\n",
      " [ 1.00000000e+00  6.10045240e+00 -4.09574140e-02  3.72155195e+01\n",
      "   1.67750976e-03 -2.49858755e-01  2.27031505e+02 -6.87064618e-05\n",
      "  -1.52425144e+00  1.02335685e-02]\n",
      " [ 1.00000000e+00  5.62374120e+00  3.71359140e-01  3.16264651e+01\n",
      "   1.37907611e-01  2.08842770e+00  1.77859055e+02  5.12132518e-02\n",
      "   1.17447769e+01  7.75556713e-01]\n",
      " [ 1.00000000e+00  5.88369690e+00  2.77681860e+00  3.46178892e+01\n",
      "   7.71072154e+00  1.63379590e+01  2.03681167e+02  2.14112750e+01\n",
      "   9.61275987e+01  4.53675484e+01]\n",
      " [ 1.00000000e+00  5.57816110e+00  3.06828890e+00  3.11158813e+01\n",
      "   9.41439677e+00  1.71154098e+01  1.73569398e+02  2.88860891e+01\n",
      "   9.54725131e+01  5.25150219e+01]\n",
      " [ 1.00000000e+00  7.00506620e+00 -2.57817270e-01  4.90709525e+01\n",
      "   6.64697447e-02 -1.80602704e+00  3.43745271e+02 -1.71370481e-02\n",
      "  -1.26513390e+01  4.65624962e-01]\n",
      " [ 1.00000000e+00  4.45381140e+00  8.39418310e-01  1.98364360e+01\n",
      "   7.04623099e-01  3.73861084e+00  8.83477447e+01  5.91473531e-01\n",
      "   1.66510676e+01  3.13825839e+00]\n",
      " [ 1.00000000e+00  5.64959240e+00  1.30539290e+00  3.19178943e+01\n",
      "   1.70405062e+00  7.37493781e+00  1.80323093e+02  2.22445558e+00\n",
      "   4.16653926e+01  9.62719145e+00]\n",
      " [ 1.00000000e+00  4.63374890e+00  1.94675460e+00  2.14716289e+01\n",
      "   3.78985347e+00  9.02077199e+00  9.94941366e+01  7.37791468e+00\n",
      "   4.17999923e+01  1.75612294e+01]\n",
      " [ 1.00000000e+00  3.69868470e+00  2.25940840e+00  1.36802685e+01\n",
      "   5.10492632e+00  8.35683928e+00  5.05989998e+01  1.15341134e+01\n",
      "   3.09093136e+01  1.88815129e+01]\n",
      " [ 1.00000000e+00  4.11930050e+00  2.54745100e+00  1.69686366e+01\n",
      "   6.48950660e+00  1.04937162e+01  6.98989133e+01  1.65317001e+01\n",
      "   4.32267703e+01  2.67322278e+01]\n",
      " [ 1.00000000e+00  4.76655580e+00  2.75312090e+00  2.27200542e+01\n",
      "   7.57967469e+00  1.31229044e+01  1.08296406e+02  2.08677608e+01\n",
      "   6.25510561e+01  3.61289424e+01]\n",
      " [ 1.00000000e+00  3.08120980e+00  2.79852550e+00  9.49385383e+00\n",
      "   7.83174497e+00  8.62284420e+00  2.92525555e+01  2.19173380e+01\n",
      "   2.65687920e+01  2.41312494e+01]\n",
      " [ 1.00000000e+00  4.07309940e+00 -3.02923980e+00  1.65901387e+01\n",
      "   9.17629377e+00 -1.23383948e+01  6.75732841e+01 -2.77971943e+01\n",
      "  -5.02555085e+01  3.73759566e+01]\n",
      " [ 1.00000000e+00  3.48830410e+00 -1.88888890e+00  1.21682655e+01\n",
      "   3.56790128e+00 -6.58901889e+00  4.24466104e+01 -6.73936912e+00\n",
      "  -2.29845016e+01  1.24459247e+01]\n",
      " [ 1.00000000e+00  7.69005850e-01  1.21052630e+00  5.91369997e-01\n",
      "   1.46537392e+00  9.30901806e-01  4.54766987e-01  1.77387367e+00\n",
      "   7.15868935e-01  1.12688112e+00]\n",
      " [ 1.00000000e+00  1.50000000e+00  3.81286550e+00  2.25000000e+00\n",
      "   1.45379433e+01  5.71929825e+00  3.37500000e+00  5.54312225e+01\n",
      "   8.57894738e+00  2.18069150e+01]\n",
      " [ 1.00000000e+00  5.79824560e+00 -2.09356730e+00  3.36196520e+01\n",
      "   4.38302404e+00 -1.21390174e+01  1.94935000e+02 -9.17615580e+00\n",
      "  -7.03850041e+01  2.54138499e+01]\n",
      " [ 1.00000000e+00  6.81145290e+00 -8.34567300e-01  4.63958906e+01\n",
      "   6.96502578e-01 -5.68461586e+00  3.16023424e+02 -5.81278276e-01\n",
      "  -3.87204932e+01  4.74419451e+00]\n",
      " [ 1.00000000e+00  7.11060960e+00 -1.02011580e+00  5.05607689e+01\n",
      "   1.04063625e+00 -7.25364520e+00  3.59517889e+02 -1.06156948e+00\n",
      "  -5.15778392e+01  7.39955808e+00]\n",
      " [ 1.00000000e+00  7.49415200e+00 -1.74269010e+00  5.61623142e+01\n",
      "   3.03696878e+00 -1.30599845e+01  4.20888919e+02 -5.29249543e+00\n",
      "  -9.78735089e+01  2.27595057e+01]\n",
      " [ 1.00000000e+00  3.13742690e+00  4.21052630e-01  9.84344755e+00\n",
      "   1.77285317e-01  1.32102185e+00  3.08830971e+01  7.46464491e-02\n",
      "   4.14460948e+00  5.56219723e-01]\n",
      " [ 1.00000000e+00  1.67543860e+00  5.08771930e-01  2.80709450e+00\n",
      "   2.58848877e-01  8.52416130e-01  4.70311448e+00  1.31695043e-01\n",
      "   1.42817089e+00  4.33685400e-01]\n",
      " [ 1.00000000e+00  2.49415200e+00 -8.65497080e-01  6.22079420e+00\n",
      "   7.49085195e-01 -2.15868127e+00  1.55156063e+01 -6.48331049e-01\n",
      "  -5.38407921e+00  1.86833234e+00]\n",
      " [ 1.00000000e+00  4.77485380e+00  9.94152050e-02  2.27992288e+01\n",
      "   9.88338299e-03  4.74693069e-01  1.08862984e+02  9.82558546e-04\n",
      "   2.26659001e+00  4.71917088e-02]\n",
      " [ 1.00000000e+00  5.82748540e+00 -6.90058480e-01  3.39595861e+01\n",
      "   4.76180706e-01 -4.02130572e+00  1.97898992e+02 -3.28592534e-01\n",
      "  -2.34341004e+01  2.77493611e+00]\n",
      " [ 1.00000000e+00  2.28947370e+00  1.97076020e+00  5.24168982e+00\n",
      "   3.88389577e+00  4.51200365e+00  1.20007110e+01  7.65422720e+00\n",
      "   1.03301137e+01  8.89207721e+00]\n",
      " [ 1.00000000e+00  2.49415200e+00  1.41520470e+00  6.22079420e+00\n",
      "   2.00280434e+00  3.52973563e+00  1.55156063e+01  2.83437812e+00\n",
      "   8.80369719e+00  4.99529846e+00]\n",
      " [ 1.00000000e+00  2.08479530e+00  1.35672510e+00  4.34637144e+00\n",
      "   1.84070300e+00  2.82849411e+00  9.06129476e+00  2.49732796e+00\n",
      "   5.89683123e+00  3.83748896e+00]]\n"
     ]
    }
   ],
   "source": [
    "# Define features: x1x1, x2x2, x1x2, x1x1x1, x2x2x2, x1x1x2, x1x2x2\n",
    "x1x1 = x1*x1\n",
    "x2x2 = x2*x2\n",
    "x1x2 = x1*x2\n",
    "x1x1x1 = x1x1 * x1\n",
    "x2x2x2 = x2x2 * x2\n",
    "x1x1x2 = x1x1 * x2\n",
    "x1x2x2 = x1x2 * x2\n",
    "# Stack the features together together with x, to define\n",
    "# x_new_quad [x, x1x1, x2x2, x1x2]\n",
    "x_new_quad = x\n",
    "x_new_quad = np.append(x_new_quad, x1x1, axis=1)\n",
    "x_new_quad = np.append(x_new_quad, x2x2, axis=1)\n",
    "x_new_quad = np.append(x_new_quad, x1x2, axis=1)\n",
    "# and x_new_cubic [x, x1x1, x2x2, x1x2, x1x1x1, x2x2x2, x1x1x2, x1x2x2]\n",
    "x_new_cubic = x_new_quad\n",
    "x_new_cubic = np.append(x_new_cubic, x1x1x1, axis=1)\n",
    "x_new_cubic = np.append(x_new_cubic, x2x2x2, axis=1)\n",
    "x_new_cubic = np.append(x_new_cubic, x1x1x2, axis=1)\n",
    "x_new_cubic = np.append(x_new_cubic, x1x2x2, axis=1)"
   ]
  },
  {
   "cell_type": "markdown",
   "metadata": {},
   "source": [
    "################# Do not write below this line #################"
   ]
  },
  {
   "cell_type": "markdown",
   "metadata": {},
   "source": [
    "Now use the Newton's optimization algorithm to learn theta by maximizing the log-likelihood, both for the case of x_new_quad and x_new_cubic.\n",
    "\n",
    "Note: you may alternatively use gradient ascent, as in Question 1, if you like."
   ]
  },
  {
   "cell_type": "code",
   "execution_count": 22,
   "metadata": {},
   "outputs": [
    {
     "name": "stdout",
     "output_type": "stream",
     "text": [
      "[-1.16243544  0.19431307  0.91024107  0.02846255  0.03220332 -0.07036227]\n",
      "[-1.95462915  0.73748351  0.7722513  -0.10048591  0.22907295  0.17436536\n",
      "  0.01105776 -0.03174456 -0.03201452 -0.05566046]\n"
     ]
    }
   ],
   "source": [
    "# Initialize theta0, in case of quadratic features\n",
    "theta0_quad = np.zeros(x_new_quad.shape[1])\n",
    "\n",
    "# Run Newton's method, in case of quadratic features\n",
    "theta_final_quad, theta_history_quad, log_l_history_quad = newton(theta0_quad, x_new_quad, y, grad_l, hess_l, 10e-6)\n",
    "\n",
    "# Initialize theta0, in case of quadratic and cubic features\n",
    "theta0_cubic = np.zeros(x_new_cubic.shape[1])\n",
    "\n",
    "# Run Newton's method, in case of quadratic and cubic features\n",
    "theta_final_cubic, theta_history_cubic, log_l_history_cubic = newton(theta0_cubic, x_new_cubic, y, grad_l, hess_l, 10e-6)\n",
    "# check and compare with previous results\n",
    "print(theta_final_quad)\n",
    "print(theta_final_cubic)"
   ]
  },
  {
   "cell_type": "code",
   "execution_count": 23,
   "metadata": {},
   "outputs": [
    {
     "data": {
      "image/png": "[encoded data removed]",
      "text/plain": [
       "<Figure size 432x288 with 1 Axes>"
      ]
     },
     "metadata": {
      "needs_background": "light"
     },
     "output_type": "display_data"
    }
   ],
   "source": [
    "# Plot the log likelihood values in the optimization iterations, in one of the two cases.\n",
    "fig,ax = plt.subplots(num=2)\n",
    "\n",
    "ax.set_ylabel('l(Theta)')\n",
    "ax.set_xlabel('Iterations')\n",
    "_=ax.plot(range(len(log_l_history_cubic)),log_l_history_cubic,'b.')"
   ]
  },
  {
   "cell_type": "markdown",
   "metadata": {},
   "source": [
    "### (b) Plot the computed non-linear boundary and discuss the questions\n"
   ]
  },
  {
   "cell_type": "markdown",
   "metadata": {},
   "source": [
    "First, define a boundary_function to compute the boundary equation for the input feature vectors $x_1$ and $x_2$, according to estimated parameters theta, both in the case of quadratic (theta_final_quad) and of quadratic and cubic features (theta_final_cubic). Refer for the equation to the introductory part of Question 3."
   ]
  },
  {
   "cell_type": "markdown",
   "metadata": {},
   "source": [
    "################# Do not write above this line #################"
   ]
  },
  {
   "cell_type": "markdown",
   "metadata": {},
   "source": [
    "Your code here"
   ]
  },
  {
   "cell_type": "code",
   "execution_count": 24,
   "metadata": {},
   "outputs": [],
   "source": [
    "def boundary_function(x1_vec, x2_vec, theta_final):\n",
    "    \n",
    "    x1_vec, x2_vec = np.meshgrid(x1_vec,x2_vec)\n",
    "    f = 0\n",
    "    if len(theta_final) == 6:\n",
    "        # boundary function value for features up to quadratic\n",
    "        #c_0 + c_1 x_1 + c_2 x_2 + c_3 x_1^2 + c_4 x_2^2 + c_5 x_1 x_2\n",
    "        c_0, c_1, c_2, c_3, c_4, c_5 = theta_final\n",
    "        f = c_0 + c_1 * x1_vec + c_2 * x2_vec + c_3 * x1_vec * x1_vec + c_4 * x2_vec * x2_vec + c_5 * x1_vec * x2_vec\n",
    "    elif len(theta_final) == 10:\n",
    "        # boundary function value for features up to cubic\n",
    "        #c_6 x_1^3 + c_7 x_2^3 + c_8 x_1^2 x_2 + c_9 x_1 x_2^2\n",
    "        c_0, c_1, c_2, c_3, c_4, c_5, c_6, c_7, c_8, c_9 = theta_final\n",
    "        f = c_0 + c_1 * x1_vec + c_2 * x2_vec + c_3 * x1_vec * x1_vec + c_4\\\n",
    "        * x2_vec * x2_vec + c_5 * x1_vec * x2_vec + c_6 * x1_vec * x1_vec *\\\n",
    "        x1_vec + c_7 * x2_vec * x2_vec * x2_vec + c_8 * x1_vec * x1_vec * x2_vec +\\\n",
    "        c_9 * x1_vec * x2_vec * x2_vec\n",
    "    else:\n",
    "        raise(\"Number of Parameters is not correct\")\n",
    "        \n",
    "    return x1_vec, x2_vec, f"
   ]
  },
  {
   "cell_type": "markdown",
   "metadata": {},
   "source": [
    "################# Do not write below this line #################"
   ]
  },
  {
   "cell_type": "markdown",
   "metadata": {},
   "source": [
    "Now plot the decision boundaries corresponding to the theta_final_quad and theta_final_cubic solutions."
   ]
  },
  {
   "cell_type": "code",
   "execution_count": 25,
   "metadata": {},
   "outputs": [
    {
     "data": {
      "text/plain": [
       "<matplotlib.contour.QuadContourSet at 0x11f86bc10>"
      ]
     },
     "execution_count": 25,
     "metadata": {},
     "output_type": "execute_result"
    },
    {
     "data": {
      "image/png": "[encoded data removed]",
      "text/plain": [
       "<Figure size 432x288 with 1 Axes>"
      ]
     },
     "metadata": {
      "needs_background": "light"
     },
     "output_type": "display_data"
    }
   ],
   "source": [
    "x1_vec = np.linspace(df_x_pl[\"x1\"].min()-1,df_x_pl[\"x1\"].max()+1,200);\n",
    "x2_vec = np.linspace(df_x_pl[\"x2\"].min()-1,df_x_pl[\"x2\"].max()+1,200);\n",
    "\n",
    "x1_vec, x2_vec, f = boundary_function(x1_vec, x2_vec, theta_final_quad)\n",
    "\n",
    "sns.scatterplot(x=\"x1\", y=\"x2\", hue=\"y\", data=df_x_pl);\n",
    "\n",
    "plt.contour(x1_vec, x2_vec, f, colors=\"red\", levels=[0])"
   ]
  },
  {
   "cell_type": "code",
   "execution_count": 26,
   "metadata": {},
   "outputs": [
    {
     "data": {
      "text/plain": [
       "<matplotlib.contour.QuadContourSet at 0x11fea4700>"
      ]
     },
     "execution_count": 26,
     "metadata": {},
     "output_type": "execute_result"
    },
    {
     "data": {
      "image/png": "[encoded data removed]",
      "text/plain": [
       "<Figure size 432x288 with 1 Axes>"
      ]
     },
     "metadata": {
      "needs_background": "light"
     },
     "output_type": "display_data"
    }
   ],
   "source": [
    "x1_vec = np.linspace(df_x_pl[\"x1\"].min()-1,df_x_pl[\"x1\"].max()+1,200);\n",
    "x2_vec = np.linspace(df_x_pl[\"x2\"].min()-1,df_x_pl[\"x2\"].max()+1,200);\n",
    "\n",
    "x1_vec, x2_vec, f = boundary_function(x1_vec, x2_vec, theta_final_cubic)\n",
    "\n",
    "sns.scatterplot(x=\"x1\", y=\"x2\", hue=\"y\", data=df_x_pl);\n",
    "\n",
    "plt.contour(x1_vec, x2_vec, f, colors=\"red\", levels=[0])"
   ]
  },
  {
   "cell_type": "markdown",
   "metadata": {},
   "source": [
    "################# Do not write above this line #################"
   ]
  },
  {
   "cell_type": "markdown",
   "metadata": {},
   "source": [
    "Write now your considerations. Discuss in particular:\n",
    "- What happens if you further increase the degree of the polynomial. How would the boundary change? Would you incur underfitting or overfitting?\n",
    "- Look at the boundary of the quadratic and cubic polynomial features. Do they meet your expectations? Why? Consider in particular the classifier decision boundary in areas where there are fewer training data, i.e. where the classifier is supposed to generalize. Hint: Try changing the minimum and maximum limits in vectors x1_vec and x2_vec before plotting the boundaries.\n",
    "- Look at the values of the original features, the 2nd and 3rd degree ones. Do you expect that normalizing the input features (either by setting their range to [-1,1] or by subtracting their mean and dividing by their standard deviation) would improve the classifier? Why yes or why not?"
   ]
  },
  {
   "cell_type": "markdown",
   "metadata": {},
   "source": [
    "################# Do not write below this line #################"
   ]
  },
  {
   "cell_type": "markdown",
   "metadata": {},
   "source": [
    "\n",
    "## [10 points, extra, not compulsory] Question 4: Gaussian Discriminant Analysis\n"
   ]
  },
  {
   "cell_type": "markdown",
   "metadata": {},
   "source": [
    "### (a) Review and implement classification with Gradient Discriminant Analysis (GDA)\n",
    "\n",
    "Recall the assumptions for GDA\n",
    "\n",
    "$\\begin{aligned} y & \\sim \\operatorname{Bernoulli}(\\phi) \\\\ x \\mid y=0 & \\sim \\mathcal{N}\\left(\\mu_{0}, \\Sigma\\right) \\\\ x \\mid y=1 & \\sim \\mathcal{N}\\left(\\mu_{1}, \\Sigma\\right) \\end{aligned}$\n",
    "\n",
    "Recall the probability distributions:\n",
    "\n",
    "$\\begin{aligned} p(y) &=\\phi^{y}(1-\\phi)^{1-y} \\\\ p(x \\mid y=0) &=\\frac{1}{(2 \\pi)^{d / 2}|\\Sigma|^{1 / 2}} \\exp \\left(-\\frac{1}{2}\\left(x-\\mu_{0}\\right)^{T} \\Sigma^{-1}\\left(x-\\mu_{0}\\right)\\right) \\\\ p(x \\mid y=1) &=\\frac{1}{(2 \\pi)^{d / 2}|\\Sigma|^{1 / 2}} \\exp \\left(-\\frac{1}{2}\\left(x-\\mu_{1}\\right)^{T} \\Sigma^{-1}\\left(x-\\mu_{1}\\right)\\right) \\end{aligned}$\n",
    "\n",
    "Overall, the parameters of the model are $\\phi, \\Sigma, \\mu_{0}$ and $\\mu_{1}$ and the log-likelihood is given by:\n",
    "\n",
    "$\\begin{aligned} \\ell\\left(\\phi, \\mu_{0}, \\mu_{1}, \\Sigma\\right) &=\\log \\prod_{i=1}^{n} p\\left(x^{(i)}, y^{(i)} ; \\phi, \\mu_{0}, \\mu_{1}, \\Sigma\\right) \\\\ &=\\log \\prod_{i=1}^{n} p\\left(x^{(i)} \\mid y^{(i)} ; \\mu_{0}, \\mu_{1}, \\Sigma\\right) p\\left(y^{(i)} ; \\phi\\right) \\end{aligned}$\n",
    "\n",
    "Parameters may be estimated by maximum likelihood estimate as follows:\n",
    "\n",
    "$\\begin{aligned} \\phi &=\\frac{1}{n} \\sum_{i=1}^{n} 1\\left\\{y^{(i)}=1\\right\\} \\\\ \\mu_{0} &=\\frac{\\sum_{i=1}^{n} 1\\left\\{y^{(i)}=0\\right\\} x^{(i)}}{\\sum_{i=1}^{n} 1\\left\\{y^{(i)}=0\\right\\}} \\\\ \\mu_{1} &=\\frac{\\sum_{i=1}^{n} 1\\left\\{y^{(i)}=1\\right\\} x^{(i)}}{\\sum_{i=1}^{n} 1\\left\\{y^{(i)}=1\\right\\}} \\\\ \\Sigma &=\\frac{1}{n} \\sum_{i=1}^{n}\\left(x^{(i)}-\\mu_{y^{(i)}}\\right)\\left(x^{(i)}-\\mu_{y^{(i)}}\\right)^{T} \\end{aligned}$\n",
    "\n",
    "Consider the data variables as from the previous questions, x and y.\n",
    "For this question, we would select features $x^{(i)}_1$ and $x^{(i)}_2$ into the new varible x12, dropping the $x_0=1$ convention."
   ]
  },
  {
   "cell_type": "code",
   "execution_count": 27,
   "metadata": {},
   "outputs": [
    {
     "name": "stdout",
     "output_type": "stream",
     "text": [
      "[[ 1.          1.3432504  -1.3311479 ]\n",
      " [ 1.          1.8205529  -0.6346681 ]\n",
      " [ 1.          0.98632067 -1.8885762 ]\n",
      " [ 1.          1.9443734  -1.635452  ]\n",
      " [ 1.          0.97673352 -1.3533151 ]]\n",
      "[[ 1.3432504  -1.3311479 ]\n",
      " [ 1.8205529  -0.6346681 ]\n",
      " [ 0.98632067 -1.8885762 ]\n",
      " [ 1.9443734  -1.635452  ]\n",
      " [ 0.97673352 -1.3533151 ]]\n",
      "[0, 0, 0, 0, 0]\n"
     ]
    }
   ],
   "source": [
    "# First extract the sole features x1 and x2 from x into an x12 array and reshape it to x2 vector arrays\n",
    "x12 = x[:,1:]\n",
    "print(x[:5,:]) # For visualization of the first 5 values\n",
    "print(x12[:5,:]) # For visualization of the first 5 values\n",
    "print(y[:5]) # For visualization of the first 5 values"
   ]
  },
  {
   "cell_type": "markdown",
   "metadata": {},
   "source": [
    "Now code up the equations above to learn the GDA parameters from the training data."
   ]
  },
  {
   "cell_type": "markdown",
   "metadata": {},
   "source": [
    "\n",
    "################# Do not write above this line #################"
   ]
  },
  {
   "cell_type": "markdown",
   "metadata": {},
   "source": [
    "Your code here"
   ]
  },
  {
   "cell_type": "code",
   "execution_count": 28,
   "metadata": {},
   "outputs": [],
   "source": [
    "def compute_phi(y):\n",
    "  # your code here\n",
    "  pass\n",
    "\n",
    "\n",
    "def compute_mu0(x, y):\n",
    "  # your code here\n",
    "  pass\n",
    "\n",
    "\n",
    "def compute_mu1(x, y):\n",
    "  # your code here\n",
    "  pass\n",
    "\n",
    "\n",
    "def compute_sigma(x, y, mu0, mu1):\n",
    "  # your code here\n",
    "  pass\n",
    "\n",
    "\n",
    "# computing p(x|y) for the Bayes rule\n",
    "def p_x_given_y(x,mu,sigma):\n",
    "  # your code here\n",
    "  pass"
   ]
  },
  {
   "cell_type": "markdown",
   "metadata": {},
   "source": [
    "\n",
    "################# Do not write below this line #################"
   ]
  },
  {
   "cell_type": "code",
   "execution_count": 29,
   "metadata": {},
   "outputs": [],
   "source": [
    "# Support functions\n",
    "\n",
    "# Function p(y) for applying the Bayes rule\n",
    "def p_y(y,phi):\n",
    "    if y==1: return phi\n",
    "    else: return 1-phi"
   ]
  },
  {
   "cell_type": "code",
   "execution_count": 30,
   "metadata": {},
   "outputs": [
    {
     "data": {
      "text/plain": [
       "(None, None, None, None)"
      ]
     },
     "execution_count": 30,
     "metadata": {},
     "output_type": "execute_result"
    }
   ],
   "source": [
    "# Now estimate the GDA parameters\n",
    "phi = compute_phi(y)\n",
    "mu0 = compute_mu0(x12,y)\n",
    "mu1 = compute_mu1(x12,y)\n",
    "sigma = compute_sigma(x12, y, mu0, mu1)\n",
    "\n",
    "phi,mu0,mu1,sigma"
   ]
  },
  {
   "cell_type": "markdown",
   "metadata": {},
   "source": [
    "Now that we know both the distributions of $p(y)$ and $p(x|y)$, we may estimate the posterior probability for an input $x$ via Bayes Rule:\n",
    "\n",
    "\\begin{equation}\n",
    "p(y \\mid x)=\\frac{p(x \\mid y) p(y)}{p(x)}\n",
    "\\end{equation}\n",
    "where $p(x)$ is the same for both classes and may be disregarded.\n",
    "\n",
    "This is used to classify each data point, by comparing $p(y=1|x) \\propto p(x \\mid y=1) p(y=1)$ and $p(y=0|x) \\propto p(x \\mid y=0) p(y=0)$."
   ]
  },
  {
   "cell_type": "code",
   "execution_count": 31,
   "metadata": {},
   "outputs": [
    {
     "name": "stdout",
     "output_type": "stream",
     "text": [
      "Selected example = [ 1.8205529 -0.6346681]\n"
     ]
    },
    {
     "ename": "TypeError",
     "evalue": "unsupported operand type(s) for -: 'int' and 'NoneType'",
     "output_type": "error",
     "traceback": [
      "\u001b[0;31m---------------------------------------------------------------------------\u001b[0m",
      "\u001b[0;31mTypeError\u001b[0m                                 Traceback (most recent call last)",
      "\u001b[0;32m<ipython-input-31-fed86a8ff922>\u001b[0m in \u001b[0;36m<module>\u001b[0;34m\u001b[0m\n\u001b[1;32m      5\u001b[0m \u001b[0;34m\u001b[0m\u001b[0m\n\u001b[1;32m      6\u001b[0m \u001b[0;31m# y=0\u001b[0m\u001b[0;34m\u001b[0m\u001b[0;34m\u001b[0m\u001b[0;34m\u001b[0m\u001b[0m\n\u001b[0;32m----> 7\u001b[0;31m \u001b[0mprint\u001b[0m\u001b[0;34m(\u001b[0m\u001b[0;34m'p(y=0|x) ~'\u001b[0m\u001b[0;34m,\u001b[0m \u001b[0mp_x_given_y\u001b[0m\u001b[0;34m(\u001b[0m\u001b[0mx12\u001b[0m\u001b[0;34m[\u001b[0m\u001b[0mselected_example\u001b[0m\u001b[0;34m,\u001b[0m\u001b[0;34m:\u001b[0m\u001b[0;34m]\u001b[0m\u001b[0;34m,\u001b[0m\u001b[0mmu0\u001b[0m\u001b[0;34m,\u001b[0m\u001b[0msigma\u001b[0m\u001b[0;34m)\u001b[0m\u001b[0;34m*\u001b[0m\u001b[0mp_y\u001b[0m\u001b[0;34m(\u001b[0m\u001b[0;36m0\u001b[0m\u001b[0;34m,\u001b[0m\u001b[0mphi\u001b[0m\u001b[0;34m)\u001b[0m\u001b[0;34m)\u001b[0m\u001b[0;34m\u001b[0m\u001b[0;34m\u001b[0m\u001b[0m\n\u001b[0m\u001b[1;32m      8\u001b[0m \u001b[0;34m\u001b[0m\u001b[0m\n\u001b[1;32m      9\u001b[0m \u001b[0;31m# y=1\u001b[0m\u001b[0;34m\u001b[0m\u001b[0;34m\u001b[0m\u001b[0;34m\u001b[0m\u001b[0m\n",
      "\u001b[0;32m<ipython-input-29-78503e84aa14>\u001b[0m in \u001b[0;36mp_y\u001b[0;34m(y, phi)\u001b[0m\n\u001b[1;32m      4\u001b[0m \u001b[0;32mdef\u001b[0m \u001b[0mp_y\u001b[0m\u001b[0;34m(\u001b[0m\u001b[0my\u001b[0m\u001b[0;34m,\u001b[0m\u001b[0mphi\u001b[0m\u001b[0;34m)\u001b[0m\u001b[0;34m:\u001b[0m\u001b[0;34m\u001b[0m\u001b[0;34m\u001b[0m\u001b[0m\n\u001b[1;32m      5\u001b[0m     \u001b[0;32mif\u001b[0m \u001b[0my\u001b[0m\u001b[0;34m==\u001b[0m\u001b[0;36m1\u001b[0m\u001b[0;34m:\u001b[0m \u001b[0;32mreturn\u001b[0m \u001b[0mphi\u001b[0m\u001b[0;34m\u001b[0m\u001b[0;34m\u001b[0m\u001b[0m\n\u001b[0;32m----> 6\u001b[0;31m     \u001b[0;32melse\u001b[0m\u001b[0;34m:\u001b[0m \u001b[0;32mreturn\u001b[0m \u001b[0;36m1\u001b[0m\u001b[0;34m-\u001b[0m\u001b[0mphi\u001b[0m\u001b[0;34m\u001b[0m\u001b[0;34m\u001b[0m\u001b[0m\n\u001b[0m",
      "\u001b[0;31mTypeError\u001b[0m: unsupported operand type(s) for -: 'int' and 'NoneType'"
     ]
    }
   ],
   "source": [
    "selected_example=1\n",
    "print('Selected example =', x12[selected_example,:])\n",
    "\n",
    "# compute p(y=0|x) ~ p(x|y=0)*p(y=0)  &  p(y=1|x) ~ p(x|y=1)*p(y=1)\n",
    "\n",
    "# y=0\n",
    "print('p(y=0|x) ~', p_x_given_y(x12[selected_example,:],mu0,sigma)*p_y(0,phi))\n",
    "\n",
    "# y=1\n",
    "print('p(y=1|x) ~', p_x_given_y(x12[selected_example,:],mu1,sigma)*p_y(1,phi))"
   ]
  },
  {
   "cell_type": "markdown",
   "metadata": {},
   "source": [
    "### (b) Plot the estimated likelihood functions, the decision boundary and write your remarks"
   ]
  },
  {
   "cell_type": "code",
   "execution_count": null,
   "metadata": {},
   "outputs": [],
   "source": [
    "def boundary_gda(x1_vec, x2_vec, mu0, mu1, sigma, phi):\n",
    "    \n",
    "    x1_vec, x2_vec = np.meshgrid(x1_vec,x2_vec)\n",
    "    \n",
    "    f=np.zeros(x1_vec.shape)\n",
    "    \n",
    "    for i in range(f.shape[0]):\n",
    "        for j in range(f.shape[1]):\n",
    "            x12_ij = np.array( (x1_vec[i,j],x2_vec[i,j]) )\n",
    "            f[i,j] = p_x_given_y(x12_ij,mu1,sigma)*p_y(1,phi) - p_x_given_y(x12_ij,mu0,sigma)*p_y(0,phi)\n",
    "            \n",
    "    return x1_vec, x2_vec, f\n",
    "\n",
    "\n",
    "x1_vec = np.linspace(df_x_pl[\"x1\"].min()-1,df_x_pl[\"x1\"].max()+1,200);\n",
    "x2_vec = np.linspace(df_x_pl[\"x2\"].min()-1,df_x_pl[\"x2\"].max()+1,200);\n",
    "\n",
    "x1_vec, x2_vec, f = boundary_gda(x1_vec, x2_vec, mu0, mu1, sigma, phi)"
   ]
  },
  {
   "cell_type": "code",
   "execution_count": null,
   "metadata": {},
   "outputs": [],
   "source": [
    "from matplotlib import cm\n",
    "from scipy.stats import multivariate_normal\n",
    "\n",
    "# Define Gaussian pdfs\n",
    "rv0 = multivariate_normal(mu0, sigma)\n",
    "rv1 = multivariate_normal(mu1, sigma)\n",
    "\n",
    "pairx12 = np.dstack((x1_vec, x2_vec))\n",
    "\n",
    "# plot pdf contours\n",
    "plt.contourf(x1_vec, x2_vec, rv0.pdf(pairx12),alpha=0.5,cmap=cm.Reds)\n",
    "plt.contourf(x1_vec, x2_vec, rv1.pdf(pairx12),alpha=0.35,cmap=cm.Blues)\n",
    "\n",
    "# Add the GDA classification to the plot\n",
    "sns.scatterplot(x=\"x1\", y=\"x2\", hue=\"y\", data=df_x_pl);\n",
    "plt.contour(x1_vec, x2_vec, f, colors=\"red\", levels=[0])\n",
    "\n",
    "plt.ylim(df_x_pl[\"x2\"].min()-1,df_x_pl[\"x2\"].max()+1)\n",
    "plt.xlim(df_x_pl[\"x1\"].min()-1,df_x_pl[\"x1\"].max()+1)"
   ]
  },
  {
   "cell_type": "code",
   "execution_count": null,
   "metadata": {},
   "outputs": [],
   "source": [
    "# For comparison with the Logistic Regression boundary\n",
    "\n",
    "# Generate vector to plot decision boundary\n",
    "x1vec = np.linspace(df_x_pl[\"x1\"].min()-1,df_x_pl[\"x1\"].max()+1,2)\n",
    "\n",
    "# Plot raw data\n",
    "sns.scatterplot(x=\"x1\", y=\"x2\", hue=\"y\", data=df_x_pl)\n",
    "\n",
    "# Plot decision boundary\n",
    "log, = plt.plot(x1vec,(-x1vec*theta_GA[1]-theta_GA[0])/theta_GA[2], color=\"red\")\n",
    "gda = plt.contour(x1_vec, x2_vec, f, colors=\"green\", levels=[0])\n",
    "\n",
    "plt.legend([log, gda.collections[0]],['logistic regression','GDA'])\n",
    "\n",
    "plt.ylim(df_x_pl[\"x2\"].min()-1,df_x_pl[\"x2\"].max()+1)\n",
    "plt.xlim(df_x_pl[\"x1\"].min()-1,df_x_pl[\"x1\"].max()+1)\n",
    "\n",
    "# plt.legend()\n",
    "plt.show()"
   ]
  },
  {
   "cell_type": "markdown",
   "metadata": {},
   "source": [
    "Write now your considerations. Discuss in particular:\n",
    "- Gaussian Discriminant Analysis makes stronger modelling assumptions than logistic regression. When may this be helpful and where may this be harmful?"
   ]
  },
  {
   "cell_type": "markdown",
   "metadata": {},
   "source": [
    "Credits for material: Andrew Ng, C. Combier"
   ]
  }
 ],
 "metadata": {
  "kernelspec": {
   "display_name": "Python 3",
   "language": "python",
   "name": "python3"
  },
  "language_info": {
   "codemirror_mode": {
    "name": "ipython",
    "version": 3
   },
   "file_extension": ".py",
   "mimetype": "text/x-python",
   "name": "python",
   "nbconvert_exporter": "python",
   "pygments_lexer": "ipython3",
   "version": "3.8.3"
  }
 },
 "nbformat": 4,
 "nbformat_minor": 1
}
