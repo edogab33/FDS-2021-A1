{
 "cells": [
  {
   "cell_type": "markdown",
   "metadata": {},
   "source": [
    "# Fundamentals of Data Science\n",
    "Winter Semester 2020\n",
    "\n",
    "## Prof. Fabio Galasso, Alessandro Flaborea and Luca Franco\n",
    "<galasso@di.uniroma1.it>, <flaborea.1841969@studenti.uniroma1.it>, <franco.luca.17@gmail.com>\n",
    "\n",
    "## Exercise 2"
   ]
  },
  {
   "cell_type": "markdown",
   "metadata": {},
   "source": [
    "In Exercise 2, you will re-derive and implement logistic regression and optimize the parameters with Gradient Descent and with the Newton's method. Also, in this exercise you will re-derive and implement Gassian Discriminant Analysis.\n",
    "We will use the files logistic_x.txt and logistic_y.txt. The first contains the feature values $x^{(i)}_1$ and $x^{(i)}_2$ for the $i$-th data sample $x^{(i)}$. The second contains the ground truth label $y^{(i)}$ for each corresponding data sample.\n",
    "\n",
    "Note that, differently from what seen in lecture, $y^{(i)}\\in \\{-1,1\\}$.\n",
    "\n",
    "The completed exercise should be handed in as a single notebook file. Use Markdown to provide equations. Use the code sections to provide your scripts and the corresponding plots.\n",
    "Submit it by sending an email to galasso@di.uniroma1.it, flaborea.1841969@studenti.uniroma1.it and franco.luca.17@gmail.com by Wednesday November 25th, 23:59."
   ]
  },
  {
   "cell_type": "markdown",
   "metadata": {},
   "source": [
    "## Notation\n",
    "\n",
    "- $x^i$ is the $i^{th}$ feature vector\n",
    "- $y^i$ is the expected outcome for the $i^{th}$ training example\n",
    "- $m$ is the number of training examples\n",
    "- $n$ is the number of features\n",
    "\n",
    "Let's start by setting up our Python environment and importing the required libraries:"
   ]
  },
  {
   "cell_type": "markdown",
   "metadata": {},
   "source": [
    "\n",
    "## [15 points] Question 1: Logistic Regression with Gradient Ascent"
   ]
  },
  {
   "cell_type": "markdown",
   "metadata": {},
   "source": [
    "### (a) [5 points] Equations for the log likelihood, its gradient, and the gradient ascent update rule.\n",
    "\n",
    "Write and simplify the likelihood $L(\\theta)$ and log-likelihood $l(\\theta)$ of the parameters $\\theta$.\n",
    "\n",
    "Recall the probabilistic interpretation of the hypothesis $h_\\theta(x)= P(y=1|x;\\theta)$ and that $h_\\theta(x)=\\frac{1}{1+\\exp(-\\theta^T x)}$.\n",
    "\n",
    "Also derive the gradient $\\frac{\\delta l(\\theta)}{\\delta \\theta_j}$ of $l(\\theta)$ and write the gradient update equation. \n",
    "\n",
    "Question: in order to learn the optimal $\\theta$, do you need to minimize or to maximize $l(\\theta)$?"
   ]
  },
  {
   "cell_type": "markdown",
   "metadata": {},
   "source": [
    "################# Do not write above this line #################"
   ]
  },
  {
   "cell_type": "markdown",
   "metadata": {},
   "source": [
    "***The following formula describes and simplify the Likelihood function of $\\theta$:***\n",
    "\n",
    "$ L(\\theta) = P(y | C; \\theta) = \\prod_{i=1}^mP(y^{(i)} | x^{(i)}; \\theta) $ $ = \\prod_{i=1}^m\\frac{1}{\\sqrt{2\\pi}\\sigma} e^{- \\frac{(y^{i} - \\theta^tx^{(i)})^2}{2\\sigma^2}}) $\n",
    "\n",
    "***Log-likelihood of $\\theta$ is the following:***\n",
    "\n",
    "$l(\\theta) = log(L(\\theta)) = log(\\prod_{i=1}^m\\frac{1}{\\sqrt{2\\pi}\\sigma} e^{- \\frac{(y^{i} - \\theta^tx^{(i)})^2}{2\\sigma^2}})) = \\sum_{i=0}^m[log(\\frac{1}{\\sqrt{2\\pi}\\sigma})+log(e^{-\\frac{(y^{i} - \\theta^tx^{(i)})^2}{2\\sigma^2}})] = mlog(\\frac{1}{\\sqrt{2\\pi}\\sigma})+\\sum_{i=0}^m-\\frac{(y^{i} - \\theta^tx^{(i)})^2}{2\\sigma^2}$\n",
    "\n",
    "***Gradient of log-likelihood:***\n",
    "\n",
    "$\\sum_{i=1}^{m}(y^{i}-h_{\\theta}(x^{i}))x_{j}^{(i)}$\n",
    "\n",
    "***Update equation for $\\theta_{j}$:***\n",
    "\n",
    "$\\theta_{j} := \\theta_{j} + \\alpha\\sum_{i=1}^{m}(y^{i}-h_{\\theta}(x^{i}))x_{j}^{(i)}$\n",
    "\n",
    "\n",
    "In order to learn the optimal $\\theta$ in the gradient ascent, we need to maximize $l(\\theta)$."
   ]
  },
  {
   "cell_type": "markdown",
   "metadata": {},
   "source": [
    "################# Do not write below this line #################"
   ]
  },
  {
   "cell_type": "markdown",
   "metadata": {},
   "source": [
    "### (b) [10 points] Implementation of logistic regression with Gradient Ascent\n",
    "\n",
    "Code up the equations above to learn the logistic regression parameters. Consider as data the files logistic_x.txt and logistic_y.txt. The first contains the feature values $x^{(i)}_1$ and $x^{(i)}_2$ for the $i$-th data sample $x^{(i)}$. The second contains the ground truth label $y^{(i)}$ for each corresponding data sample."
   ]
  },
  {
   "cell_type": "code",
   "execution_count": 161,
   "metadata": {},
   "outputs": [],
   "source": [
    "%matplotlib inline\n",
    "import numpy as np # imports a fast numerical programming library\n",
    "import scipy as sp # imports stats functions, amongst other things\n",
    "import matplotlib as mpl # this actually imports matplotlib\n",
    "import matplotlib.cm as cm # allows us easy access to colormaps\n",
    "import matplotlib.pyplot as plt # sets up plotting under plt\n",
    "import pandas as pd # lets us handle data as dataframes\n",
    "\n",
    "# sets up pandas table display\n",
    "pd.set_option('display.width', 500)\n",
    "pd.set_option('display.max_columns', 100)\n",
    "pd.set_option('display.notebook_repr_html', True)\n",
    "\n",
    "import seaborn as sns # sets up styles and gives us more plotting options"
   ]
  },
  {
   "cell_type": "markdown",
   "metadata": {},
   "source": [
    "Let's start by loading the data into two pandas DataFrames:"
   ]
  },
  {
   "cell_type": "code",
   "execution_count": 162,
   "metadata": {},
   "outputs": [
    {
     "data": {
      "text/html": [
       "<div>\n",
       "<style scoped>\n",
       "    .dataframe tbody tr th:only-of-type {\n",
       "        vertical-align: middle;\n",
       "    }\n",
       "\n",
       "    .dataframe tbody tr th {\n",
       "        vertical-align: top;\n",
       "    }\n",
       "\n",
       "    .dataframe thead th {\n",
       "        text-align: right;\n",
       "    }\n",
       "</style>\n",
       "<table border=\"1\" class=\"dataframe\">\n",
       "  <thead>\n",
       "    <tr style=\"text-align: right;\">\n",
       "      <th></th>\n",
       "      <th>x1</th>\n",
       "      <th>x2</th>\n",
       "    </tr>\n",
       "  </thead>\n",
       "  <tbody>\n",
       "    <tr>\n",
       "      <th>0</th>\n",
       "      <td>1.343250</td>\n",
       "      <td>-1.331148</td>\n",
       "    </tr>\n",
       "    <tr>\n",
       "      <th>1</th>\n",
       "      <td>1.820553</td>\n",
       "      <td>-0.634668</td>\n",
       "    </tr>\n",
       "    <tr>\n",
       "      <th>2</th>\n",
       "      <td>0.986321</td>\n",
       "      <td>-1.888576</td>\n",
       "    </tr>\n",
       "    <tr>\n",
       "      <th>3</th>\n",
       "      <td>1.944373</td>\n",
       "      <td>-1.635452</td>\n",
       "    </tr>\n",
       "    <tr>\n",
       "      <th>4</th>\n",
       "      <td>0.976734</td>\n",
       "      <td>-1.353315</td>\n",
       "    </tr>\n",
       "  </tbody>\n",
       "</table>\n",
       "</div>"
      ],
      "text/plain": [
       "         x1        x2\n",
       "0  1.343250 -1.331148\n",
       "1  1.820553 -0.634668\n",
       "2  0.986321 -1.888576\n",
       "3  1.944373 -1.635452\n",
       "4  0.976734 -1.353315"
      ]
     },
     "execution_count": 162,
     "metadata": {},
     "output_type": "execute_result"
    }
   ],
   "source": [
    "df_x = pd.read_csv(\"./data/logistic_x.txt\", sep=\"\\ +\", names=[\"x1\",\"x2\"], header=None, engine='python')\n",
    "df_y = pd.read_csv('./data/logistic_y.txt', sep='\\ +', names=[\"y\"], header=None, engine='python')\n",
    "df_y = df_y.astype(int)\n",
    "df_x.head()"
   ]
  },
  {
   "cell_type": "code",
   "execution_count": 163,
   "metadata": {},
   "outputs": [
    {
     "data": {
      "text/html": [
       "<div>\n",
       "<style scoped>\n",
       "    .dataframe tbody tr th:only-of-type {\n",
       "        vertical-align: middle;\n",
       "    }\n",
       "\n",
       "    .dataframe tbody tr th {\n",
       "        vertical-align: top;\n",
       "    }\n",
       "\n",
       "    .dataframe thead th {\n",
       "        text-align: right;\n",
       "    }\n",
       "</style>\n",
       "<table border=\"1\" class=\"dataframe\">\n",
       "  <thead>\n",
       "    <tr style=\"text-align: right;\">\n",
       "      <th></th>\n",
       "      <th>y</th>\n",
       "    </tr>\n",
       "  </thead>\n",
       "  <tbody>\n",
       "    <tr>\n",
       "      <th>0</th>\n",
       "      <td>-1</td>\n",
       "    </tr>\n",
       "    <tr>\n",
       "      <th>1</th>\n",
       "      <td>-1</td>\n",
       "    </tr>\n",
       "    <tr>\n",
       "      <th>2</th>\n",
       "      <td>-1</td>\n",
       "    </tr>\n",
       "    <tr>\n",
       "      <th>3</th>\n",
       "      <td>-1</td>\n",
       "    </tr>\n",
       "    <tr>\n",
       "      <th>4</th>\n",
       "      <td>-1</td>\n",
       "    </tr>\n",
       "  </tbody>\n",
       "</table>\n",
       "</div>"
      ],
      "text/plain": [
       "   y\n",
       "0 -1\n",
       "1 -1\n",
       "2 -1\n",
       "3 -1\n",
       "4 -1"
      ]
     },
     "execution_count": 163,
     "metadata": {},
     "output_type": "execute_result"
    }
   ],
   "source": [
    "df_y.head()"
   ]
  },
  {
   "cell_type": "markdown",
   "metadata": {},
   "source": [
    "Let's get the NumPy arrays from the dataset, and add a column of 1's to $X$ to take into account the zero intercept"
   ]
  },
  {
   "cell_type": "code",
   "execution_count": 164,
   "metadata": {},
   "outputs": [],
   "source": [
    "x = np.hstack([np.ones((df_x.shape[0], 1)), df_x[[\"x1\",\"x2\"]].values])\n",
    "y = df_y[\"y\"].values"
   ]
  },
  {
   "cell_type": "markdown",
   "metadata": {},
   "source": [
    "Adjust y so that $y^{(i)}\\in [0,1]$"
   ]
  },
  {
   "cell_type": "markdown",
   "metadata": {},
   "source": [
    "################# Do not write above this line #################"
   ]
  },
  {
   "cell_type": "markdown",
   "metadata": {},
   "source": [
    "Your code here"
   ]
  },
  {
   "cell_type": "code",
   "execution_count": 165,
   "metadata": {},
   "outputs": [],
   "source": [
    "y = [0 if y[i]==-1 else 1 for i in range(len(y))]"
   ]
  },
  {
   "cell_type": "markdown",
   "metadata": {},
   "source": [
    "################# Do not write below this line #################"
   ]
  },
  {
   "cell_type": "code",
   "execution_count": 166,
   "metadata": {},
   "outputs": [
    {
     "data": {
      "text/plain": [
       "[array([[ 1.        ,  1.3432504 , -1.3311479 ],\n",
       "        [ 1.        ,  1.8205529 , -0.6346681 ],\n",
       "        [ 1.        ,  0.98632067, -1.8885762 ],\n",
       "        [ 1.        ,  1.9443734 , -1.635452  ],\n",
       "        [ 1.        ,  0.97673352, -1.3533151 ]]),\n",
       " array([[ 1.        ,  4.7748538 ,  0.09941521],\n",
       "        [ 1.        ,  5.8274854 , -0.69005848],\n",
       "        [ 1.        ,  2.2894737 ,  1.9707602 ],\n",
       "        [ 1.        ,  2.494152  ,  1.4152047 ],\n",
       "        [ 1.        ,  2.0847953 ,  1.3567251 ]])]"
      ]
     },
     "execution_count": 166,
     "metadata": {},
     "output_type": "execute_result"
    }
   ],
   "source": [
    "[x[:5,:],x[-5:,:]] # Plot the first and last 5 lines of x, now containing features x0 (constant=1), x1 and x2"
   ]
  },
  {
   "cell_type": "code",
   "execution_count": 167,
   "metadata": {},
   "outputs": [
    {
     "data": {
      "text/plain": [
       "[[0, 0, 0, 0, 0], [1, 1, 1, 1, 1]]"
      ]
     },
     "execution_count": 167,
     "metadata": {},
     "output_type": "execute_result"
    }
   ],
   "source": [
    "[y[:5],y[-5:]] # Plot the first and last 5 lines of y"
   ]
  },
  {
   "cell_type": "markdown",
   "metadata": {},
   "source": [
    "Define the sigmoid function \"sigmoid\", the function to compute the gradient of the log likelihood  \"grad_l\" and the gradient ascent algorithm."
   ]
  },
  {
   "cell_type": "markdown",
   "metadata": {},
   "source": [
    "################# Do not write above this line #################"
   ]
  },
  {
   "cell_type": "markdown",
   "metadata": {},
   "source": [
    "Your code here"
   ]
  },
  {
   "cell_type": "code",
   "execution_count": 168,
   "metadata": {},
   "outputs": [],
   "source": [
    "def sigmoid(x):\n",
    "    return 1/(1+np.exp(-x))\n",
    "\n",
    "def log_likelihood(theta,x,y):\n",
    "    l = 0\n",
    "    theta = np.array(theta)\n",
    "    x = np.array(x)\n",
    "    y = np.array(y)\n",
    "    \n",
    "    for i in range(len(y)):\n",
    "        theta_x = np.sum(theta.T * x[i])\n",
    "\n",
    "        l += y[i] * np.log(sigmoid(theta_x)) + (1 - y[i]) * np.log(1 - sigmoid(theta_x))\n",
    "    \n",
    "    return l/len(y)\n",
    "\n",
    "def grad_l(theta, x, y):\n",
    "    G = 0\n",
    "    for i in range(len(y)):\n",
    "        theta_x = np.sum(theta.T * x[i])\n",
    "        G += (y[i] - sigmoid(theta_x)) * x[i]\n",
    "\n",
    "    return G/len(y)\n",
    "\n",
    "def gradient_ascent(theta,x,y,G,alpha=0.01,iterations=100):\n",
    "\n",
    "    m = len(y)\n",
    "    \n",
    "    log_l_history = np.zeros(iterations)\n",
    "    theta_history = np.zeros((iterations,len(theta)))\n",
    "    \n",
    "    for i in range(iterations):\n",
    "        grad = G(theta, x, y)\n",
    "        \n",
    "        theta += alpha * grad\n",
    "\n",
    "        log_l_history[i] = log_likelihood(theta,x,y)\n",
    "        theta_history[i] = theta\n",
    "\n",
    "    return theta, log_l_history, theta_history"
   ]
  },
  {
   "cell_type": "markdown",
   "metadata": {},
   "source": [
    "################# Do not write below this line #################"
   ]
  },
  {
   "cell_type": "markdown",
   "metadata": {},
   "source": [
    "Check your grad_l implementation:\n",
    "grad_l applied to the theta_test (defined below) should provide a value for log_l_test close to the target_value (defined below); in other words the error_test should be 0, up to machine error precision."
   ]
  },
  {
   "cell_type": "code",
   "execution_count": 169,
   "metadata": {},
   "outputs": [
    {
     "name": "stdout",
     "output_type": "stream",
     "text": [
      "0.000000\n"
     ]
    }
   ],
   "source": [
    "target_value = -0.4250958770469834\n",
    "theta_test=np.array([-2,1,2])\n",
    "\n",
    "log_l_test  = log_likelihood(theta_test,x,y)\n",
    "\n",
    "error_test=np.abs(log_l_test-target_value)\n",
    "\n",
    "print(\"{:f}\".format(error_test))"
   ]
  },
  {
   "cell_type": "markdown",
   "metadata": {},
   "source": [
    "Let's now apply the function gradient_ascent and print the final theta as well as theta_history "
   ]
  },
  {
   "cell_type": "code",
   "execution_count": 170,
   "metadata": {},
   "outputs": [
    {
     "name": "stdout",
     "output_type": "stream",
     "text": [
      "[-2.26273823  0.68206058  1.1488799 ]\n",
      "[[-0.00252525  0.24075277  0.27741531]\n",
      " [-0.09466248  0.02417409  0.4842623 ]\n",
      " [-0.07912578  0.28980503  0.58779649]\n",
      " [-0.15771921  0.09948048  0.70750784]\n",
      " [-0.15887097  0.25993557  0.76095741]\n",
      " [-0.21048127  0.173992    0.82754518]\n",
      " [-0.22818926  0.24154768  0.86453479]\n",
      " [-0.26350489  0.22074806  0.90429555]\n",
      " [-0.28832456  0.24552649  0.93273441]\n",
      " [-0.31724522  0.24726911  0.95933049]\n",
      " [-0.34346501  0.25863463  0.98103108]\n",
      " [-0.37008163  0.26521562  1.0002055 ]\n",
      " [-0.39586019  0.27311221  1.01662091]\n",
      " [-0.42133038  0.27999917  1.03095288]\n",
      " [-0.44632957  0.28680866  1.04341188]\n",
      " [-0.47094487  0.29326043  1.05429595]\n",
      " [-0.49517129  0.29949238  1.06380849]\n",
      " [-0.51903155  0.30549479  1.07213506]\n",
      " [-0.54253676  0.31130036  1.07942772]\n",
      " [-0.56569952  0.31692426  1.08581756]\n",
      " [-0.58853027  0.32238345  1.09141646]\n",
      " [-0.61103863  0.3276915   1.09632101]\n",
      " [-0.63323328  0.33286053  1.10061483]\n",
      " [-0.65512219  0.3379011   1.10437068]\n",
      " [-0.67671266  0.34282248  1.10765207]\n",
      " [-0.69801147  0.34763288  1.11051463]\n",
      " [-0.71902493  0.35233957  1.11300724]\n",
      " [-0.73975896  0.356949    1.11517294]\n",
      " [-0.76021913  0.36146696  1.11704973]\n",
      " [-0.7804107   0.3658986   1.11867121]\n",
      " [-0.80033867  0.37024855  1.12006713]\n",
      " [-0.8200078   0.37452099  1.12126388]\n",
      " [-0.83942267  0.3787197   1.12228492]\n",
      " [-0.85858763  0.38284807  1.12315108]\n",
      " [-0.87750692  0.38690922  1.12388089]\n",
      " [-0.89618459  0.39090594  1.12449087]\n",
      " [-0.91462458  0.39484081  1.12499572]\n",
      " [-0.93283071  0.39871619  1.12540852]\n",
      " [-0.95080667  0.40253422  1.12574095]\n",
      " [-0.96855608  0.40629688  1.12600342]\n",
      " [-0.98608244  0.410006    1.12620519]\n",
      " [-1.00338919  0.41366325  1.12635452]\n",
      " [-1.02047966  0.41727019  1.12645877]\n",
      " [-1.03735713  0.42082828  1.12652448]\n",
      " [-1.0540248   0.42433885  1.12655747]\n",
      " [-1.07048582  0.42780315  1.12656293]\n",
      " [-1.08674324  0.43122236  1.12654545]\n",
      " [-1.1028001   0.43459757  1.12650912]\n",
      " [-1.11865934  0.43792981  1.12645754]\n",
      " [-1.13432387  0.44122005  1.12639392]\n",
      " [-1.14979655  0.44446921  1.12632108]\n",
      " [-1.16508016  0.44767815  1.12624152]\n",
      " [-1.18017747  0.45084769  1.12615742]\n",
      " [-1.19509119  0.45397861  1.12607071]\n",
      " [-1.20982396  0.45707164  1.12598307]\n",
      " [-1.22437841  0.4601275   1.12589598]\n",
      " [-1.2387571   0.46314686  1.1258107 ]\n",
      " [-1.25296257  0.46613037  1.12572834]\n",
      " [-1.26699731  0.46907864  1.12564986]\n",
      " [-1.28086375  0.47199228  1.12557605]\n",
      " [-1.29456431  0.47487185  1.12550763]\n",
      " [-1.30810136  0.47771791  1.12544516]\n",
      " [-1.32147722  0.48053099  1.12538913]\n",
      " [-1.33469419  0.48331162  1.12533993]\n",
      " [-1.34775452  0.48606028  1.1252979 ]\n",
      " [-1.36066044  0.48877748  1.12526327]\n",
      " [-1.37341412  0.49146366  1.12523624]\n",
      " [-1.38601771  0.49411931  1.12521695]\n",
      " [-1.39847333  0.49674485  1.1252055 ]\n",
      " [-1.41078306  0.49934074  1.12520192]\n",
      " [-1.42294895  0.50190737  1.12520623]\n",
      " [-1.434973    0.50444519  1.12521842]\n",
      " [-1.4468572   0.50695457  1.12523844]\n",
      " [-1.4586035   0.50943593  1.12526621]\n",
      " [-1.47021382  0.51188964  1.12530165]\n",
      " [-1.48169005  0.51431608  1.12534465]\n",
      " [-1.49303404  0.51671563  1.12539508]\n",
      " [-1.50424762  0.51908864  1.1254528 ]\n",
      " [-1.51533258  0.52143547  1.12551767]\n",
      " [-1.52629071  0.52375647  1.12558952]\n",
      " [-1.53712374  0.52605198  1.12566819]\n",
      " [-1.54783338  0.52832233  1.12575352]\n",
      " [-1.55842132  0.53056786  1.12584531]\n",
      " [-1.56888922  0.53278888  1.12594341]\n",
      " [-1.57923871  0.53498572  1.12604761]\n",
      " [-1.58947139  0.53715869  1.12615774]\n",
      " [-1.59958886  0.5393081   1.12627362]\n",
      " [-1.60959265  0.54143424  1.12639506]\n",
      " [-1.61948431  0.54353742  1.12652187]\n",
      " [-1.62926533  0.54561792  1.12665387]\n",
      " [-1.63893721  0.54767604  1.12679088]\n",
      " [-1.64850139  0.54971205  1.12693273]\n",
      " [-1.65795932  0.55172624  1.12707922]\n",
      " [-1.66731241  0.55371889  1.1272302 ]\n",
      " [-1.67656204  0.55569025  1.12738548]\n",
      " [-1.68570959  0.55764059  1.12754489]\n",
      " [-1.6947564   0.55957019  1.12770827]\n",
      " [-1.7037038   0.56147929  1.12787546]\n",
      " [-1.71255309  0.56336815  1.1280463 ]\n",
      " [-1.72130555  0.56523701  1.12822063]\n",
      " [-1.72996246  0.56708614  1.12839829]\n",
      " [-1.73852504  0.56891576  1.12857915]\n",
      " [-1.74699454  0.57072612  1.12876304]\n",
      " [-1.75537215  0.57251746  1.12894984]\n",
      " [-1.76365906  0.57429     1.1291394 ]\n",
      " [-1.77185644  0.57604397  1.1293316 ]\n",
      " [-1.77996543  0.57777961  1.12952629]\n",
      " [-1.78798718  0.57949713  1.12972335]\n",
      " [-1.79592279  0.58119675  1.12992266]\n",
      " [-1.80377337  0.58287869  1.13012409]\n",
      " [-1.81153998  0.58454316  1.13032754]\n",
      " [-1.81922371  0.58619037  1.13053288]\n",
      " [-1.82682559  0.58782052  1.13074001]\n",
      " [-1.83434666  0.58943383  1.13094882]\n",
      " [-1.84178793  0.5910305   1.1311592 ]\n",
      " [-1.84915041  0.59261071  1.13137107]\n",
      " [-1.85643508  0.59417467  1.13158431]\n",
      " [-1.86364291  0.59572257  1.13179884]\n",
      " [-1.87077485  0.5972546   1.13201456]\n",
      " [-1.87783185  0.59877095  1.13223138]\n",
      " [-1.88481484  0.6002718   1.13244923]\n",
      " [-1.89172472  0.60175733  1.13266802]\n",
      " [-1.89856241  0.60322773  1.13288766]\n",
      " [-1.90532878  0.60468316  1.13310808]\n",
      " [-1.91202471  0.60612382  1.1333292 ]\n",
      " [-1.91865105  0.60754986  1.13355096]\n",
      " [-1.92520867  0.60896146  1.13377328]\n",
      " [-1.93169838  0.61035879  1.1339961 ]\n",
      " [-1.93812103  0.61174201  1.13421934]\n",
      " [-1.9444774   0.61311128  1.13444295]\n",
      " [-1.95076831  0.61446677  1.13466687]\n",
      " [-1.95699455  0.61580864  1.13489103]\n",
      " [-1.96315688  0.61713703  1.13511539]\n",
      " [-1.96925608  0.61845212  1.13533988]\n",
      " [-1.97529289  0.61975404  1.13556445]\n",
      " [-1.98126806  0.62104295  1.13578905]\n",
      " [-1.98718232  0.62231899  1.13601363]\n",
      " [-1.99303639  0.62358232  1.13623815]\n",
      " [-1.99883099  0.62483308  1.13646255]\n",
      " [-2.00456681  0.62607141  1.1366868 ]\n",
      " [-2.01024455  0.62729745  1.13691085]\n",
      " [-2.01586489  0.62851133  1.13713466]\n",
      " [-2.02142849  0.62971321  1.1373582 ]\n",
      " [-2.02693603  0.63090321  1.13758141]\n",
      " [-2.03238815  0.63208146  1.13780428]\n",
      " [-2.03778551  0.6332481   1.13802675]\n",
      " [-2.04312872  0.63440325  1.13824881]\n",
      " [-2.04841842  0.63554705  1.1384704 ]\n",
      " [-2.05365523  0.63667962  1.13869152]\n",
      " [-2.05883976  0.63780109  1.13891211]\n",
      " [-2.0639726   0.63891158  1.13913216]\n",
      " [-2.06905434  0.6400112   1.13935164]\n",
      " [-2.07408558  0.64110009  1.13957052]\n",
      " [-2.07906689  0.64217836  1.13978877]\n",
      " [-2.08399883  0.64324612  1.14000638]\n",
      " [-2.08888196  0.64430349  1.14022331]\n",
      " [-2.09371684  0.64535059  1.14043954]\n",
      " [-2.09850402  0.64638752  1.14065506]\n",
      " [-2.10324403  0.64741441  1.14086984]\n",
      " [-2.1079374   0.64843135  1.14108386]\n",
      " [-2.11258465  0.64943846  1.1412971 ]\n",
      " [-2.1171863   0.65043584  1.14150955]\n",
      " [-2.12174287  0.6514236   1.14172119]\n",
      " [-2.12625485  0.65240184  1.141932  ]\n",
      " [-2.13072273  0.65337067  1.14214196]\n",
      " [-2.13514702  0.65433019  1.14235106]\n",
      " [-2.13952819  0.65528049  1.14255929]\n",
      " [-2.14386672  0.65622168  1.14276664]\n",
      " [-2.14816307  0.65715385  1.14297308]\n",
      " [-2.15241772  0.65807711  1.14317861]\n",
      " [-2.15663112  0.65899154  1.14338321]\n",
      " [-2.16080372  0.65989724  1.14358688]\n",
      " [-2.16493597  0.6607943   1.1437896 ]\n",
      " [-2.16902831  0.66168282  1.14399136]\n",
      " [-2.17308118  0.66256288  1.14419216]\n",
      " [-2.177095    0.66343458  1.14439198]\n",
      " [-2.1810702   0.664298    1.14459082]\n",
      " [-2.18500719  0.66515324  1.14478867]\n",
      " [-2.18890639  0.66600037  1.14498552]\n",
      " [-2.19276821  0.66683948  1.14518137]\n",
      " [-2.19659305  0.66767066  1.1453762 ]\n",
      " [-2.2003813   0.66849399  1.14557001]\n",
      " [-2.20413336  0.66930955  1.1457628 ]\n",
      " [-2.20784961  0.67011742  1.14595457]\n",
      " [-2.21153045  0.67091769  1.14614529]\n",
      " [-2.21517623  0.67171043  1.14633498]\n",
      " [-2.21878735  0.67249572  1.14652363]\n",
      " [-2.22236416  0.67327364  1.14671123]\n",
      " [-2.22590704  0.67404426  1.14689778]\n",
      " [-2.22941633  0.67480767  1.14708328]\n",
      " [-2.2328924   0.67556392  1.14726772]\n",
      " [-2.23633559  0.67631311  1.14745111]\n",
      " [-2.23974625  0.6770553   1.14763343]\n",
      " [-2.24312472  0.67779056  1.14781469]\n",
      " [-2.24647135  0.67851896  1.14799489]\n",
      " [-2.24978645  0.67924058  1.14817403]\n",
      " [-2.25307037  0.67995548  1.1483521 ]\n",
      " [-2.25632342  0.68066374  1.1485291 ]\n",
      " [-2.25954594  0.68136541  1.14870503]\n",
      " [-2.26273823  0.68206058  1.1488799 ]]\n"
     ]
    }
   ],
   "source": [
    "# Initialize theta0\n",
    "theta0 = np.zeros(x.shape[1])\n",
    "\n",
    "# Run Gradient Ascent method\n",
    "\n",
    "n_iter=200\n",
    "theta_final, log_l_history, theta_history = gradient_ascent(theta0,x,y,grad_l,alpha=0.5,iterations=n_iter)\n",
    "print(theta_final)\n",
    "print(theta_history)"
   ]
  },
  {
   "cell_type": "markdown",
   "metadata": {},
   "source": [
    "Let's plot the log likelihood over iterations"
   ]
  },
  {
   "cell_type": "code",
   "execution_count": 171,
   "metadata": {},
   "outputs": [
    {
     "data": {
      "image/png": "[encoded data removed]",
      "text/plain": [
       "<Figure size 432x288 with 1 Axes>"
      ]
     },
     "metadata": {
      "needs_background": "light"
     },
     "output_type": "display_data"
    }
   ],
   "source": [
    "fig,ax = plt.subplots(num=2)\n",
    "\n",
    "ax.set_ylabel('l(Theta)')\n",
    "ax.set_xlabel('Iterations')\n",
    "_=ax.plot(range(len(log_l_history)),log_l_history,'b.')"
   ]
  },
  {
   "cell_type": "markdown",
   "metadata": {},
   "source": [
    "Plot the data and the decision boundary:"
   ]
  },
  {
   "cell_type": "code",
   "execution_count": 172,
   "metadata": {},
   "outputs": [
    {
     "data": {
      "text/html": [
       "<div>\n",
       "<style scoped>\n",
       "    .dataframe tbody tr th:only-of-type {\n",
       "        vertical-align: middle;\n",
       "    }\n",
       "\n",
       "    .dataframe tbody tr th {\n",
       "        vertical-align: top;\n",
       "    }\n",
       "\n",
       "    .dataframe thead th {\n",
       "        text-align: right;\n",
       "    }\n",
       "</style>\n",
       "<table border=\"1\" class=\"dataframe\">\n",
       "  <thead>\n",
       "    <tr style=\"text-align: right;\">\n",
       "      <th></th>\n",
       "      <th>y</th>\n",
       "      <th>x1</th>\n",
       "      <th>x2</th>\n",
       "    </tr>\n",
       "  </thead>\n",
       "  <tbody>\n",
       "    <tr>\n",
       "      <th>0</th>\n",
       "      <td>-1</td>\n",
       "      <td>1.343250</td>\n",
       "      <td>-1.331148</td>\n",
       "    </tr>\n",
       "    <tr>\n",
       "      <th>1</th>\n",
       "      <td>-1</td>\n",
       "      <td>1.820553</td>\n",
       "      <td>-0.634668</td>\n",
       "    </tr>\n",
       "    <tr>\n",
       "      <th>2</th>\n",
       "      <td>-1</td>\n",
       "      <td>0.986321</td>\n",
       "      <td>-1.888576</td>\n",
       "    </tr>\n",
       "    <tr>\n",
       "      <th>3</th>\n",
       "      <td>-1</td>\n",
       "      <td>1.944373</td>\n",
       "      <td>-1.635452</td>\n",
       "    </tr>\n",
       "    <tr>\n",
       "      <th>4</th>\n",
       "      <td>-1</td>\n",
       "      <td>0.976734</td>\n",
       "      <td>-1.353315</td>\n",
       "    </tr>\n",
       "  </tbody>\n",
       "</table>\n",
       "</div>"
      ],
      "text/plain": [
       "   y        x1        x2\n",
       "0 -1  1.343250 -1.331148\n",
       "1 -1  1.820553 -0.634668\n",
       "2 -1  0.986321 -1.888576\n",
       "3 -1  1.944373 -1.635452\n",
       "4 -1  0.976734 -1.353315"
      ]
     },
     "execution_count": 172,
     "metadata": {},
     "output_type": "execute_result"
    }
   ],
   "source": [
    "df_x_pl=df_x.copy()\n",
    "df_y_pl=df_y.copy()\n",
    "df_x_pl.insert(0, \"y\", df_y)\n",
    "df_x_pl[\"y\"] = pd.to_numeric(df_x_pl[\"y\"], downcast='signed')\n",
    "df_x_pl.head()"
   ]
  },
  {
   "cell_type": "code",
   "execution_count": 173,
   "metadata": {},
   "outputs": [
    {
     "data": {
      "image/png": "[encoded data removed]",
      "text/plain": [
       "<Figure size 432x288 with 1 Axes>"
      ]
     },
     "metadata": {
      "needs_background": "light"
     },
     "output_type": "display_data"
    }
   ],
   "source": [
    "# Generate vector to plot decision boundary\n",
    "x1_vec = np.linspace(df_x_pl[\"x1\"].min(),df_x_pl[\"x1\"].max(),2);\n",
    "\n",
    "# Plot raw data\n",
    "sns.scatterplot(x=\"x1\", y=\"x2\", hue=\"y\", data=df_x_pl);\n",
    "\n",
    "# Plot decision boundary\n",
    "plt.plot(x1_vec,(-x1_vec*theta_final[1]-theta_final[0])/theta_final[2], color=\"red\");\n",
    "\n",
    "# Save the theta_final value for later comparisons\n",
    "theta_GA = theta_final.copy()"
   ]
  },
  {
   "cell_type": "markdown",
   "metadata": {},
   "source": [
    "################# Do not write above this line #################"
   ]
  },
  {
   "cell_type": "markdown",
   "metadata": {},
   "source": [
    "Write now your considerations. Discuss in particular:\n",
    "- what effects do the learning rate $\\alpha$ and the number of iterations have on the computed $\\theta$\n",
    "- may you still achieve the same value if you decrease the learning rate $\\alpha$ and increase the number of iterations n_iter up to an infinite number of them? Why?\n",
    "- may you still achieve the same value if you increase the learning rate $\\alpha$ substantially and decrease the number of iterations n_iter? Why?\n",
    "\n",
    "Substantiate your answer with experiments and plots of the $l(\\theta)$ and the decision boundary.\n",
    "\n",
    "With a smaller learning rate $\\alpha$ the gradient ascent converge slower, hence with lesser iterations the algorithm doesn't learn the optimal theta.\n",
    "We did some experiments:\n",
    "\n",
    "***$\\alpha$ = 0.5 iterations = 200***\n",
    "\n",
    "With those parameters it converges.\n",
    "\n",
    "![curve_alpha_0.5-it_200](./img/curve_alpha_0.5-it_200.png)\n",
    "\n",
    "![theta_alpha_0.5-it_200](./img/thetas/alpha_0.5-it_200.png)\n",
    "\n",
    "\n",
    "***$\\alpha$ = 0.05 iterations = 5000***\n",
    "\n",
    "With those parameters it converges.\n",
    "\n",
    "![theta_alpha_0.05-it_5000](./img/thetas/alpha_0.05-it_5000.png)\n",
    "\n",
    "***$\\alpha$ = 0.005 iterations = 1000***\n",
    "\n",
    "Instead, with this parameters it doesn't converge.\n",
    "![curve_alpha_0.005-it_1000](./img/curve_alpha_0.005-it_1000.png)\n",
    "\n",
    "![theta_alpha_0.005-it_1000](./img/thetas/alpha_0.005-it_1000.png)\n",
    "\n",
    "\n",
    "Since we know that, what does it happen when the learning rate is small and the iterations are infinite? \n",
    "\n",
    "Well, for computational and time reasons we can't run the algorithm up to an infinite number but we can see what happens when the iterations are a lot. Theorically the step it makes at each iteration becomes smaller and smaller, so it might never reach an optimal $\\theta$.\n",
    "\n",
    "Practically we saw that for $\\alpha$ = 0.005 and for 1000 iterations it doesn't converge. We then ran our experiment for 10000 iterations and it also doesn't converge (as we see for the theta values, compared to $\\alpha$ = 0.5):\n",
    "\n",
    "![theta_alpha_0.005-it_10000](./img/thetas/alpha_0.005-it_10000.png)\n",
    "![curve_alpha_0.005-it_10000](./img/curve_alpha_0.005-it_10000.png)\n",
    "\n",
    "But it does converge for 50000 iterations:\n",
    "![theta_alpha_0.005-it_50000](./img/thetas/alpha_0.005-it_50000.png)\n",
    "![curve_alpha_0.005-it_50000](./img/curve_alpha_0.005-it_50000.png)\n",
    "\n",
    "\n",
    "Therefore we saw that for a smaller $\\alpha$ it converges a lot slower.\n",
    "\n",
    "On the other hand, when $\\alpha$ is larger, the algorithm converges faster. We picked an $\\alpha$ = 0.5 to see this.\n",
    "\n",
    "We first ran the experiment with 5000 iterations, which yelds to a convergence but it does a lot of useless computations:\n",
    "![curve_alpha_0.5-it_5000](./img/curve_alpha_0.5-it_5000.png)\n",
    "\n",
    "The red line indicates (more or less) the convergence point, which as we can see is lesser than 500 iterations. So we ran thee algorithm with 200 iterations and as you can see in the plot above (in the very first part of the answer), it converges pretty fast.\n",
    "\n",
    "This is how the classification looks like:\n",
    "![alpha_0.5-it_200](./img/alpha_0.5-it_200.png)"
   ]
  },
  {
   "cell_type": "markdown",
   "metadata": {},
   "source": [
    "################# Do not write below this line #################"
   ]
  },
  {
   "cell_type": "markdown",
   "metadata": {},
   "source": [
    "\n",
    "## [15 points] Question 2: Logistic Regression with the Newton's method"
   ]
  },
  {
   "cell_type": "markdown",
   "metadata": {},
   "source": [
    "### (a) [5 points] Equations for the Hessian of the log likelihood\n",
    "\n",
    "Derive the equation for the Hessian matrix $H$ of the log-likelihood $l(\\theta)$ of the parameters $\\theta$.\n",
    "\n",
    "Recall that: $H_{i,j} = \\frac{\\delta^2 l(\\theta)}{\\delta \\theta_i \\delta \\theta_j}$\n",
    "\n",
    "Also write the parameter update rule for the Newton's method, as a function of the Hessian and gradient of $l(\\theta)$.\n",
    "\n",
    "Question: in order to learn the optimal $\\theta$, do you need to minimize or to maximize $\\nabla_{\\theta} l$?"
   ]
  },
  {
   "cell_type": "markdown",
   "metadata": {},
   "source": [
    "################# Do not write above this line #################"
   ]
  },
  {
   "cell_type": "markdown",
   "metadata": {},
   "source": [
    "Your equations and the answer to the question here."
   ]
  },
  {
   "cell_type": "markdown",
   "metadata": {},
   "source": [
    "################# Do not write below this line #################"
   ]
  },
  {
   "cell_type": "markdown",
   "metadata": {},
   "source": [
    "### (b) [10 points] Implementation of logistic regression with the Newton's method\n",
    "\n",
    "Code up the equations above to learn the logistic regression parameters. Consider as data the files logistic_x.txt and logistic_y.txt. The first contains the feature values  $x^{(i)}_1$ and $x^{(i)}_2$  for the  𝑖 -th data sample  $x^{(i)}$ . The second contains the ground truth label  $y^{(i)}$  for each corresponding data sample."
   ]
  },
  {
   "cell_type": "markdown",
   "metadata": {},
   "source": [
    "Define the Hessian function hess_l and the Newton's method function \"newton\":"
   ]
  },
  {
   "cell_type": "markdown",
   "metadata": {},
   "source": [
    "################# Do not write above this line #################"
   ]
  },
  {
   "cell_type": "markdown",
   "metadata": {},
   "source": [
    "Your code here"
   ]
  },
  {
   "cell_type": "code",
   "execution_count": 174,
   "metadata": {},
   "outputs": [],
   "source": [
    "def hess_l(theta, x, y):\n",
    "        z = np.dot(x, theta)\n",
    "        p = sigmoid(z)\n",
    "        w = np.diag(p * (1 - p))\n",
    "        hessian = -x.T.dot(w).dot(x)\n",
    "        return hessian/len(y)\n",
    "\n",
    "\n",
    "\n",
    "def newton(theta0, x, y, G, H, eps):\n",
    "    # compute this operation steap by step to have theta history\n",
    "    # compute also the log_l to have the log_l_history\n",
    "    # the function that i write do all togheter but i'm not sure\n",
    "    theta_history = []\n",
    "    log_l_history = []\n",
    "    theta_history.append(theta0)\n",
    "    log_l_history.append(log_likelihood(theta0, x, y))\n",
    "\n",
    "    mask = True\n",
    "    \n",
    "    while mask: \n",
    "        hessian = H(theta_history[-1], x, y)\n",
    "        gradient = G(theta_history[-1], x, y)\n",
    "        step = np.dot(np.linalg.inv(hessian), gradient)\n",
    "\n",
    "        theta_history.append(theta_history[-1] - step)\n",
    "        log_l_history.append(log_likelihood(theta_history[-1], x, y))\n",
    "\n",
    "        mask = False in (step < eps) # If all elements in step are smaller than eps (True), than break the loop\n",
    "\n",
    "    \n",
    "    return theta_history[-1], theta_history, log_l_history"
   ]
  },
  {
   "cell_type": "markdown",
   "metadata": {},
   "source": [
    "################# Do not write below this line #################"
   ]
  },
  {
   "cell_type": "markdown",
   "metadata": {},
   "source": [
    "Check your hess_l implementation: hess_l applied to the theta_test (defined below) should provide a value for hess_l_test close to the target_value (defined below); in other words the error_test should be 0, up to machine error precision."
   ]
  },
  {
   "cell_type": "code",
   "execution_count": 175,
   "metadata": {},
   "outputs": [
    {
     "name": "stdout",
     "output_type": "stream",
     "text": [
      "2.879550\n"
     ]
    }
   ],
   "source": [
    "target_value = np.array([[-0.14357024, -0.43836134,  0.18767787], \\\n",
    "                         [-0.43836134, -1.72295801,  0.61817001], \\\n",
    "                         [ 0.18767787,  0.61817001, -0.51247901]])\n",
    "theta_test=np.array([-2,1,2])\n",
    "\n",
    "hess_l_test  = hess_l(theta_test,x,y)\n",
    "error_test=np.sum(np.abs(hess_l_test-target_value),axis=(0,1))\n",
    "\n",
    "print(\"{:f}\".format(error_test))"
   ]
  },
  {
   "cell_type": "markdown",
   "metadata": {},
   "source": [
    "Now run Newton's method to perform logistic regression:"
   ]
  },
  {
   "cell_type": "code",
   "execution_count": 176,
   "metadata": {},
   "outputs": [
    {
     "name": "stdout",
     "output_type": "stream",
     "text": [
      "theta [-2.6205116   0.76037154  1.17194674]\n"
     ]
    }
   ],
   "source": [
    "# Initialize theta0\n",
    "theta0 = np.zeros(x.shape[1])\n",
    "\n",
    "# Run Newton's method\n",
    "theta_final, theta_history, log_l_history = newton(theta0,x,y,grad_l,hess_l,1e-6)\n",
    "print(\"theta \"+str(theta_final))"
   ]
  },
  {
   "cell_type": "markdown",
   "metadata": {},
   "source": [
    "Let's plot the log likelihood over iterations"
   ]
  },
  {
   "cell_type": "code",
   "execution_count": 177,
   "metadata": {},
   "outputs": [
    {
     "data": {
      "image/png": "[encoded data removed]",
      "text/plain": [
       "<Figure size 432x288 with 1 Axes>"
      ]
     },
     "metadata": {
      "needs_background": "light"
     },
     "output_type": "display_data"
    }
   ],
   "source": [
    "fig,ax = plt.subplots(num=2)\n",
    "\n",
    "ax.set_ylabel('l(Theta)')\n",
    "ax.set_xlabel('Iterations')\n",
    "_=ax.plot(range(len(log_l_history)),log_l_history,'b.')"
   ]
  },
  {
   "cell_type": "markdown",
   "metadata": {},
   "source": [
    "Plot the data and our decision boundary:"
   ]
  },
  {
   "cell_type": "code",
   "execution_count": 178,
   "metadata": {},
   "outputs": [
    {
     "data": {
      "text/html": [
       "<div>\n",
       "<style scoped>\n",
       "    .dataframe tbody tr th:only-of-type {\n",
       "        vertical-align: middle;\n",
       "    }\n",
       "\n",
       "    .dataframe tbody tr th {\n",
       "        vertical-align: top;\n",
       "    }\n",
       "\n",
       "    .dataframe thead th {\n",
       "        text-align: right;\n",
       "    }\n",
       "</style>\n",
       "<table border=\"1\" class=\"dataframe\">\n",
       "  <thead>\n",
       "    <tr style=\"text-align: right;\">\n",
       "      <th></th>\n",
       "      <th>y</th>\n",
       "      <th>x1</th>\n",
       "      <th>x2</th>\n",
       "    </tr>\n",
       "  </thead>\n",
       "  <tbody>\n",
       "    <tr>\n",
       "      <th>0</th>\n",
       "      <td>-1</td>\n",
       "      <td>1.343250</td>\n",
       "      <td>-1.331148</td>\n",
       "    </tr>\n",
       "    <tr>\n",
       "      <th>1</th>\n",
       "      <td>-1</td>\n",
       "      <td>1.820553</td>\n",
       "      <td>-0.634668</td>\n",
       "    </tr>\n",
       "    <tr>\n",
       "      <th>2</th>\n",
       "      <td>-1</td>\n",
       "      <td>0.986321</td>\n",
       "      <td>-1.888576</td>\n",
       "    </tr>\n",
       "    <tr>\n",
       "      <th>3</th>\n",
       "      <td>-1</td>\n",
       "      <td>1.944373</td>\n",
       "      <td>-1.635452</td>\n",
       "    </tr>\n",
       "    <tr>\n",
       "      <th>4</th>\n",
       "      <td>-1</td>\n",
       "      <td>0.976734</td>\n",
       "      <td>-1.353315</td>\n",
       "    </tr>\n",
       "  </tbody>\n",
       "</table>\n",
       "</div>"
      ],
      "text/plain": [
       "   y        x1        x2\n",
       "0 -1  1.343250 -1.331148\n",
       "1 -1  1.820553 -0.634668\n",
       "2 -1  0.986321 -1.888576\n",
       "3 -1  1.944373 -1.635452\n",
       "4 -1  0.976734 -1.353315"
      ]
     },
     "execution_count": 178,
     "metadata": {},
     "output_type": "execute_result"
    }
   ],
   "source": [
    "df_x_pl=df_x.copy()\n",
    "df_y_pl=df_y.copy()\n",
    "df_x_pl.insert(0, \"y\", df_y)\n",
    "df_x_pl[\"y\"] = pd.to_numeric(df_x_pl[\"y\"],downcast='signed')\n",
    "df_x_pl.head()"
   ]
  },
  {
   "cell_type": "code",
   "execution_count": 179,
   "metadata": {},
   "outputs": [
    {
     "data": {
      "image/png": "[encoded data removed]",
      "text/plain": [
       "<Figure size 432x288 with 1 Axes>"
      ]
     },
     "metadata": {
      "needs_background": "light"
     },
     "output_type": "display_data"
    }
   ],
   "source": [
    "# Generate vector to plot decision boundary\n",
    "x1_vec = np.linspace(df_x_pl[\"x1\"].min(),df_x_pl[\"x1\"].max(),2);\n",
    "\n",
    "# Plot raw data\n",
    "sns.scatterplot(x=\"x1\", y=\"x2\", hue=\"y\", data=df_x_pl);\n",
    "\n",
    "# Plot decision boundary\n",
    "plt.plot(x1_vec,(-x1_vec*theta_final[1]-theta_final[0])/theta_final[2], color=\"red\");"
   ]
  },
  {
   "cell_type": "markdown",
   "metadata": {},
   "source": [
    "################# Do not write above this line #################"
   ]
  },
  {
   "cell_type": "markdown",
   "metadata": {},
   "source": [
    "Write now your considerations. Discuss in particular:\n",
    "- the different convergence speed of the Newton's method, compared to Gradient Ascent\n",
    "- the incurred cost for the different convergence speed\n",
    "\n",
    "The convervence speed of the Newton's method is way faster than the Gradient Ascent (GA) one, as we can see from the number of points in this plot:\n",
    "![nm_plot](./img/q2/newton.png)\n",
    "\n",
    "Furthermore Newton's method (NM) doesn't need hyperparameters, while in the GD/GA we need to tune the learning rate, but the cost of all this is that we can apply the NM only in functions which can be derived two times. Also, speaking of second derivative, it is difficult to compute it either with numerical methods or with the analytical expression. Hence each step might require more computational power than each step of the GD/GA."
   ]
  },
  {
   "cell_type": "markdown",
   "metadata": {},
   "source": [
    "################# Do not write below this line #################"
   ]
  },
  {
   "cell_type": "markdown",
   "metadata": {},
   "source": [
    "\n",
    "## [7 points] Question 3: Logistic Regression with non linear boundaries"
   ]
  },
  {
   "cell_type": "markdown",
   "metadata": {},
   "source": [
    "### (a) Polynomial features for logistic regression\n",
    "\n",
    "Define new features, e.g. of 2nd and 3rd degrees, and learn a logistic regression classifier by using the new features, by using the Newton's optimization algorithm (or the gradient ascent one, if you like)."
   ]
  },
  {
   "cell_type": "markdown",
   "metadata": {},
   "source": [
    "In particular, we would consider a polynomial boundary with equation:\n",
    "\n",
    "$f(x_1, x_2) = c_0 + c_1 x_1 + c_2 x_2 + c_3 x_1^2 + c_4 x_2^2 + c_5 x_1 x_2 + c_6 x_1^3 + c_7 x_2^3 + c_8 x_1^2 x_2 + c_9 x_1 x_2^2$\n",
    "\n",
    "We would therefore compute 7 new features: 3 new ones for the quadratic terms and 4 new ones for the cubic terms.\n",
    "\n",
    "Create new arrays by stacking x (from the previous questions) and the new 7 features (in the order x1x1, x2x2, x1x2, x1x1x1, x2x2x2, x1x1x2, x1x2x2). In particular create x_new_quad by additionally stacking with x the quadratic features, and x_new_cubic by additionally stacking with x the quadratic and the cubic features."
   ]
  },
  {
   "cell_type": "code",
   "execution_count": 180,
   "metadata": {},
   "outputs": [
    {
     "name": "stdout",
     "output_type": "stream",
     "text": [
      "[[ 1.          1.3432504  -1.3311479 ]\n",
      " [ 1.          1.8205529  -0.6346681 ]\n",
      " [ 1.          0.98632067 -1.8885762 ]\n",
      " [ 1.          1.9443734  -1.635452  ]\n",
      " [ 1.          0.97673352 -1.3533151 ]]\n",
      "[[1.3432504 ]\n",
      " [1.8205529 ]\n",
      " [0.98632067]\n",
      " [1.9443734 ]\n",
      " [0.97673352]]\n",
      "[[-1.3311479]\n",
      " [-0.6346681]\n",
      " [-1.8885762]\n",
      " [-1.635452 ]\n",
      " [-1.3533151]]\n"
     ]
    }
   ],
   "source": [
    "# First extract features x1 and x2 from x and reshape them to x1 vector arrays\n",
    "x1 = x[:,1]\n",
    "x2 = x[:,2]\n",
    "x1 = x1.reshape(x1.shape[0], 1)\n",
    "x2 = x2.reshape(x2.shape[0], 1)\n",
    "print(x[:5,:]) # For visualization of the first 5 values\n",
    "print(x1[:5,:]) # For visualization of the first 5 values\n",
    "print(x2[:5,:]) # For visualization of the first 5 values"
   ]
  },
  {
   "cell_type": "markdown",
   "metadata": {},
   "source": [
    "################# Do not write above this line #################"
   ]
  },
  {
   "cell_type": "markdown",
   "metadata": {},
   "source": [
    "Your code here"
   ]
  },
  {
   "cell_type": "code",
   "execution_count": 198,
   "metadata": {},
   "outputs": [],
   "source": [
    "# Define features: x1x1, x2x2, x1x2, x1x1x1, x2x2x2, x1x1x2, x1x2x2\n",
    "x1x1 = x1*x1\n",
    "x2x2 = x2*x2\n",
    "x1x2 = x1*x2\n",
    "x1x1x1 = x1x1 * x1\n",
    "x2x2x2 = x2x2 * x2\n",
    "x1x1x2 = x1x1 * x2\n",
    "x1x2x2 = x1x2 * x2\n",
    "\n",
    "# For the report\n",
    "x1x1x1x1 = x1x1x1 * x1\n",
    "x1x1x1x2 = x1x1x2 * x1\n",
    "x1x1x2x2 = x1x2x2 * x1\n",
    "x1x2x2x2 = x1x2x2 * x2\n",
    "x2x2x2x2 = x2x2x2 * x2\n",
    "\n",
    "# Stack the features together together with x, to define\n",
    "# x_new_quad [x, x1x1, x2x2, x1x2]\n",
    "x_new_quad = x\n",
    "x_new_quad = np.append(x_new_quad, x1x1, axis=1)\n",
    "x_new_quad = np.append(x_new_quad, x2x2, axis=1)\n",
    "x_new_quad = np.append(x_new_quad, x1x2, axis=1)\n",
    "# and x_new_cubic [x, x1x1, x2x2, x1x2, x1x1x1, x2x2x2, x1x1x2, x1x2x2]\n",
    "x_new_cubic = x_new_quad\n",
    "x_new_cubic = np.append(x_new_cubic, x1x1x1, axis=1)\n",
    "x_new_cubic = np.append(x_new_cubic, x2x2x2, axis=1)\n",
    "x_new_cubic = np.append(x_new_cubic, x1x1x2, axis=1)\n",
    "x_new_cubic = np.append(x_new_cubic, x1x2x2, axis=1)\n",
    "\n",
    "# x_new_forth\n",
    "x_new_fourth = x_new_cubic\n",
    "x_new_fourth = np.append(x_new_fourth, x1x1x1x1, axis=1)\n",
    "x_new_fourth = np.append(x_new_fourth, x2x2x2x2, axis=1)\n",
    "x_new_fourth = np.append(x_new_fourth, x1x1x1x2, axis=1)\n",
    "x_new_fourth = np.append(x_new_fourth, x1x1x2x2, axis=1)\n",
    "x_new_fourth = np.append(x_new_fourth, x1x2x2x2, axis=1)"
   ]
  },
  {
   "cell_type": "markdown",
   "metadata": {},
   "source": [
    "################# Do not write below this line #################"
   ]
  },
  {
   "cell_type": "markdown",
   "metadata": {},
   "source": [
    "Now use the Newton's optimization algorithm to learn theta by maximizing the log-likelihood, both for the case of x_new_quad and x_new_cubic.\n",
    "\n",
    "Note: you may alternatively use gradient ascent, as in Question 1, if you like."
   ]
  },
  {
   "cell_type": "code",
   "execution_count": 199,
   "metadata": {},
   "outputs": [
    {
     "name": "stdout",
     "output_type": "stream",
     "text": [
      "[-2.01513398  0.17762534  1.91642971  0.07051926  0.18229119 -0.12953289]\n",
      "[-15.80125013  11.84659121   8.30909256  -3.03962928   1.86524086\n",
      "  -2.79099534   0.25914767   0.14781713   0.24456441  -0.30583232]\n",
      "[-1.94134536e+01  1.65455258e+01  1.17562630e+01 -5.06507309e+00\n",
      "  6.90865834e-01 -5.97160723e+00  6.01887307e-01  2.79370016e-01\n",
      "  1.11988680e+00  3.49871236e-01 -1.96524803e-02  2.26340294e-03\n",
      " -7.38301844e-02 -8.06248481e-02 -2.43563792e-02]\n"
     ]
    },
    {
     "name": "stderr",
     "output_type": "stream",
     "text": [
      "<ipython-input-168-ff50c2e4e163>:13: RuntimeWarning: divide by zero encountered in log\n",
      "  l += y[i] * np.log(sigmoid(theta_x)) + (1 - y[i]) * np.log(1 - sigmoid(theta_x))\n",
      "<ipython-input-168-ff50c2e4e163>:13: RuntimeWarning: invalid value encountered in multiply\n",
      "  l += y[i] * np.log(sigmoid(theta_x)) + (1 - y[i]) * np.log(1 - sigmoid(theta_x))\n"
     ]
    }
   ],
   "source": [
    "# Initialize theta0, in case of quadratic features\n",
    "theta0_quad = np.zeros(x_new_quad.shape[1])\n",
    "\n",
    "# Run Newton's method, in case of quadratic features\n",
    "theta_final_quad, theta_history_quad, log_l_history_quad = newton(theta0_quad, x_new_quad, y, grad_l, hess_l, 10e-6)\n",
    "\n",
    "# Initialize theta0, in case of quadratic and cubic features\n",
    "theta0_cubic = np.zeros(x_new_cubic.shape[1])\n",
    "\n",
    "# Run Newton's method, in case of quadratic and cubic features\n",
    "theta_final_cubic, theta_history_cubic, log_l_history_cubic = newton(theta0_cubic, x_new_cubic, y, grad_l, hess_l, 10e-6)\n",
    "\n",
    "\n",
    "# Initialize theta0, in case of exp fourth features\n",
    "theta0_fourth = np.zeros(x_new_fourth.shape[1])\n",
    "# Run Newton's method, in case of exp fourth features\n",
    "theta_final_fourth, theta_history_cubic, log_l_history_cubic = newton(theta0_fourth, x_new_fourth, y, grad_l, hess_l, 10e-6)\n",
    "\n",
    "\n",
    "# check and compare with previous results\n",
    "print(theta_final_quad)\n",
    "print(theta_final_cubic)\n",
    "print(theta_final_fourth)"
   ]
  },
  {
   "cell_type": "code",
   "execution_count": 183,
   "metadata": {},
   "outputs": [
    {
     "data": {
      "image/png": "[encoded data removed]",
      "text/plain": [
       "<Figure size 432x288 with 1 Axes>"
      ]
     },
     "metadata": {
      "needs_background": "light"
     },
     "output_type": "display_data"
    }
   ],
   "source": [
    "# Plot the log likelihood values in the optimization iterations, in one of the two cases.\n",
    "fig,ax = plt.subplots(num=2)\n",
    "\n",
    "ax.set_ylabel('l(Theta)')\n",
    "ax.set_xlabel('Iterations')\n",
    "_=ax.plot(range(len(log_l_history_cubic)),log_l_history_cubic,'b.')"
   ]
  },
  {
   "cell_type": "markdown",
   "metadata": {},
   "source": [
    "### (b) Plot the computed non-linear boundary and discuss the questions"
   ]
  },
  {
   "cell_type": "markdown",
   "metadata": {},
   "source": [
    "First, define a boundary_function to compute the boundary equation for the input feature vectors $x_1$ and $x_2$, according to estimated parameters theta, both in the case of quadratic (theta_final_quad) and of quadratic and cubic features (theta_final_cubic). Refer for the equation to the introductory part of Question 3."
   ]
  },
  {
   "cell_type": "markdown",
   "metadata": {},
   "source": [
    "################# Do not write above this line #################"
   ]
  },
  {
   "cell_type": "markdown",
   "metadata": {},
   "source": [
    "Your code here"
   ]
  },
  {
   "cell_type": "code",
   "execution_count": 205,
   "metadata": {},
   "outputs": [],
   "source": [
    "def boundary_function(x1_vec, x2_vec, theta_final):\n",
    "    \n",
    "    x1_vec, x2_vec = np.meshgrid(x1_vec,x2_vec)\n",
    "    f = 0\n",
    "    if len(theta_final) == 6:\n",
    "        # boundary function value for features up to quadratic\n",
    "        #c_0 + c_1 x_1 + c_2 x_2 + c_3 x_1^2 + c_4 x_2^2 + c_5 x_1 x_2\n",
    "        c_0, c_1, c_2, c_3, c_4, c_5 = theta_final\n",
    "        f = c_0 + c_1 * x1_vec + c_2 * x2_vec + c_3 * x1_vec * x1_vec + c_4 * x2_vec * x2_vec + c_5 * x1_vec * x2_vec\n",
    "    elif len(theta_final) == 10:\n",
    "        # boundary function value for features up to cubic\n",
    "        #c_6 x_1^3 + c_7 x_2^3 + c_8 x_1^2 x_2 + c_9 x_1 x_2^2\n",
    "        c_0, c_1, c_2, c_3, c_4, c_5, c_6, c_7, c_8, c_9 = theta_final\n",
    "        f = c_0 + c_1 * x1_vec + c_2 * x2_vec + c_3 * x1_vec * x1_vec + c_4\\\n",
    "        * x2_vec * x2_vec + c_5 * x1_vec * x2_vec + c_6 * x1_vec * x1_vec *\\\n",
    "        x1_vec + c_7 * x2_vec * x2_vec * x2_vec + c_8 * x1_vec * x1_vec * x2_vec +\\\n",
    "        c_9 * x1_vec * x2_vec * x2_vec\n",
    "    elif len(theta_final) == 15:\n",
    "        # boundary function value for features up to cubic\n",
    "        #c_6 x_1^3 + c_7 x_2^3 + c_8 x_1^2 x_2 + c_9 x_1 x_2^2\n",
    "        c_0, c_1, c_2, c_3, c_4, c_5, c_6, c_7, c_8, c_9, c_10, c_11, c_12, c_13, c_14 = theta_final\n",
    "        c_0, c_1, c_2, c_3, c_4, c_5, c_6, c_7, c_8, c_9, c10, c11, c12, c13, c14 = theta_final\n",
    "        f = c_0 + c_1 * x1_vec + c_2 * x2_vec + c_3 * x1_vec * x1_vec + c_4\\\n",
    "        * x2_vec * x2_vec + c_5 * x1_vec * x2_vec + c_6 * x1_vec * x1_vec *\\\n",
    "        x1_vec + c_7 * x2_vec * x2_vec * x2_vec + c_8 * x1_vec * x1_vec * x2_vec +\\\n",
    "        c_9 * x1_vec * x2_vec * x2_vec\\\n",
    "        + c_10 * x1_vec * x1_vec * x1_vec * x1_vec +\\\n",
    "        c_11 * x1_vec * x1_vec * x1_vec * x2_vec +\\\n",
    "        c_12 * x1_vec * x1_vec * x2_vec * x2_vec +\\\n",
    "        c_13 * x1_vec * x2_vec * x2_vec * x2_vec +\\\n",
    "        c_14 * x2_vec * x2_vec * x2_vec * x2_vec\n",
    "    else:\n",
    "        raise(\"Number of Parameters is not correct\")\n",
    "        \n",
    "    return x1_vec, x2_vec, f"
   ]
  },
  {
   "cell_type": "markdown",
   "metadata": {},
   "source": [
    "################# Do not write below this line #################"
   ]
  },
  {
   "cell_type": "markdown",
   "metadata": {},
   "source": [
    "Now plot the decision boundaries corresponding to the theta_final_quad and theta_final_cubic solutions."
   ]
  },
  {
   "cell_type": "code",
   "execution_count": 206,
   "metadata": {},
   "outputs": [
    {
     "data": {
      "text/plain": [
       "<matplotlib.contour.QuadContourSet at 0x121121d30>"
      ]
     },
     "execution_count": 206,
     "metadata": {},
     "output_type": "execute_result"
    },
    {
     "data": {
      "image/png": "[encoded data removed]",
      "text/plain": [
       "<Figure size 432x288 with 1 Axes>"
      ]
     },
     "metadata": {
      "needs_background": "light"
     },
     "output_type": "display_data"
    }
   ],
   "source": [
    "x1_vec = np.linspace(df_x_pl[\"x1\"].min()-1,df_x_pl[\"x1\"].max()+1,200);\n",
    "x2_vec = np.linspace(df_x_pl[\"x2\"].min()-1,df_x_pl[\"x2\"].max()+1,200);\n",
    "\n",
    "x1_vec, x2_vec, f = boundary_function(x1_vec, x2_vec, theta_final_quad)\n",
    "\n",
    "sns.scatterplot(x=\"x1\", y=\"x2\", hue=\"y\", data=df_x_pl);\n",
    "\n",
    "plt.contour(x1_vec, x2_vec, f, colors=\"red\", levels=[0])"
   ]
  },
  {
   "cell_type": "code",
   "execution_count": 207,
   "metadata": {},
   "outputs": [
    {
     "data": {
      "text/plain": [
       "<matplotlib.contour.QuadContourSet at 0x12330a6d0>"
      ]
     },
     "execution_count": 207,
     "metadata": {},
     "output_type": "execute_result"
    },
    {
     "data": {
      "image/png": "[encoded data removed]",
      "text/plain": [
       "<Figure size 432x288 with 1 Axes>"
      ]
     },
     "metadata": {
      "needs_background": "light"
     },
     "output_type": "display_data"
    }
   ],
   "source": [
    "x1_vec = np.linspace(df_x_pl[\"x1\"].min()-1,df_x_pl[\"x1\"].max()+1,200);\n",
    "x2_vec = np.linspace(df_x_pl[\"x2\"].min()-1,df_x_pl[\"x2\"].max()+1,200);\n",
    "\n",
    "x1_vec, x2_vec, f = boundary_function(x1_vec, x2_vec, theta_final_fourth)\n",
    "\n",
    "sns.scatterplot(x=\"x1\", y=\"x2\", hue=\"y\", data=df_x_pl);\n",
    "\n",
    "plt.contour(x1_vec, x2_vec, f, colors=\"red\", levels=[0])"
   ]
  },
  {
   "cell_type": "markdown",
   "metadata": {},
   "source": [
    "################# Do not write above this line #################"
   ]
  },
  {
   "cell_type": "markdown",
   "metadata": {},
   "source": [
    "Write now your considerations. Discuss in particular:\n",
    "- What happens if you further increase the degree of the polynomial. How would the boundary change? Would you incur underfitting or overfitting?\n",
    "- Look at the boundary of the quadratic and cubic polynomial features. Do they meet your expectations? Why? Consider in particular the classifier decision boundary in areas where there are fewer training data, i.e. where the classifier is supposed to generalize. Hint: Try changing the minimum and maximum limits in vectors x1_vec and x2_vec before plotting the boundaries.\n",
    "- Look at the values of the original features, the 2nd and 3rd degree ones. Do you expect that normalizing the input features (either by setting their range to [-1,1] or by subtracting their mean and dividing by their standard deviation) would improve the classifier? Why yes or why not?"
   ]
  },
  {
   "cell_type": "markdown",
   "metadata": {},
   "source": [
    "################# Do not write below this line #################"
   ]
  },
  {
   "cell_type": "markdown",
   "metadata": {},
   "source": [
    "\n",
    "## [10 points, extra, not compulsory] Question 4: Gaussian Discriminant Analysis"
   ]
  },
  {
   "cell_type": "markdown",
   "metadata": {},
   "source": [
    "### (a) Review and implement classification with Gradient Discriminant Analysis (GDA)\n",
    "\n",
    "Recall the assumptions for GDA\n",
    "\n",
    "$\\begin{aligned} y & \\sim \\operatorname{Bernoulli}(\\phi) \\\\ x \\mid y=0 & \\sim \\mathcal{N}\\left(\\mu_{0}, \\Sigma\\right) \\\\ x \\mid y=1 & \\sim \\mathcal{N}\\left(\\mu_{1}, \\Sigma\\right) \\end{aligned}$\n",
    "\n",
    "Recall the probability distributions:\n",
    "\n",
    "$\\begin{aligned} p(y) &=\\phi^{y}(1-\\phi)^{1-y} \\\\ p(x \\mid y=0) &=\\frac{1}{(2 \\pi)^{d / 2}|\\Sigma|^{1 / 2}} \\exp \\left(-\\frac{1}{2}\\left(x-\\mu_{0}\\right)^{T} \\Sigma^{-1}\\left(x-\\mu_{0}\\right)\\right) \\\\ p(x \\mid y=1) &=\\frac{1}{(2 \\pi)^{d / 2}|\\Sigma|^{1 / 2}} \\exp \\left(-\\frac{1}{2}\\left(x-\\mu_{1}\\right)^{T} \\Sigma^{-1}\\left(x-\\mu_{1}\\right)\\right) \\end{aligned}$\n",
    "\n",
    "Overall, the parameters of the model are $\\phi, \\Sigma, \\mu_{0}$ and $\\mu_{1}$ and the log-likelihood is given by:\n",
    "\n",
    "$\\begin{aligned} \\ell\\left(\\phi, \\mu_{0}, \\mu_{1}, \\Sigma\\right) &=\\log \\prod_{i=1}^{n} p\\left(x^{(i)}, y^{(i)} ; \\phi, \\mu_{0}, \\mu_{1}, \\Sigma\\right) \\\\ &=\\log \\prod_{i=1}^{n} p\\left(x^{(i)} \\mid y^{(i)} ; \\mu_{0}, \\mu_{1}, \\Sigma\\right) p\\left(y^{(i)} ; \\phi\\right) \\end{aligned}$\n",
    "\n",
    "Parameters may be estimated by maximum likelihood estimate as follows:\n",
    "\n",
    "$\\begin{aligned} \\phi &=\\frac{1}{n} \\sum_{i=1}^{n} 1\\left\\{y^{(i)}=1\\right\\} \\\\ \\mu_{0} &=\\frac{\\sum_{i=1}^{n} 1\\left\\{y^{(i)}=0\\right\\} x^{(i)}}{\\sum_{i=1}^{n} 1\\left\\{y^{(i)}=0\\right\\}} \\\\ \\mu_{1} &=\\frac{\\sum_{i=1}^{n} 1\\left\\{y^{(i)}=1\\right\\} x^{(i)}}{\\sum_{i=1}^{n} 1\\left\\{y^{(i)}=1\\right\\}} \\\\ \\Sigma &=\\frac{1}{n} \\sum_{i=1}^{n}\\left(x^{(i)}-\\mu_{y^{(i)}}\\right)\\left(x^{(i)}-\\mu_{y^{(i)}}\\right)^{T} \\end{aligned}$\n",
    "\n",
    "Consider the data variables as from the previous questions, x and y.\n",
    "For this question, we would select features $x^{(i)}_1$ and $x^{(i)}_2$ into the new varible x12, dropping the $x_0=1$ convention."
   ]
  },
  {
   "cell_type": "code",
   "execution_count": 187,
   "metadata": {},
   "outputs": [
    {
     "name": "stdout",
     "output_type": "stream",
     "text": [
      "[[ 1.          1.3432504  -1.3311479 ]\n",
      " [ 1.          1.8205529  -0.6346681 ]\n",
      " [ 1.          0.98632067 -1.8885762 ]\n",
      " [ 1.          1.9443734  -1.635452  ]\n",
      " [ 1.          0.97673352 -1.3533151 ]]\n",
      "[[ 1.3432504  -1.3311479 ]\n",
      " [ 1.8205529  -0.6346681 ]\n",
      " [ 0.98632067 -1.8885762 ]\n",
      " [ 1.9443734  -1.635452  ]\n",
      " [ 0.97673352 -1.3533151 ]]\n",
      "[0, 0, 0, 0, 0]\n"
     ]
    }
   ],
   "source": [
    "# First extract the sole features x1 and x2 from x into an x12 array and reshape it to x2 vector arrays\n",
    "x12 = x[:,1:]\n",
    "print(x[:5,:]) # For visualization of the first 5 values\n",
    "print(x12[:5,:]) # For visualization of the first 5 values\n",
    "print(y[:5]) # For visualization of the first 5 values"
   ]
  },
  {
   "cell_type": "markdown",
   "metadata": {},
   "source": [
    "Now code up the equations above to learn the GDA parameters from the training data."
   ]
  },
  {
   "cell_type": "markdown",
   "metadata": {},
   "source": [
    "\n",
    "################# Do not write above this line #################"
   ]
  },
  {
   "cell_type": "markdown",
   "metadata": {},
   "source": [
    "Your code here"
   ]
  },
  {
   "cell_type": "code",
   "execution_count": 188,
   "metadata": {},
   "outputs": [],
   "source": [
    "def compute_phi(y):\n",
    "    return np.sum(y)/len(y)\n",
    "\n",
    "def compute_mu1(x, y):\n",
    "    x = np.array(x)\n",
    "    y = np.array(y)\n",
    "    m = len(y)\n",
    "    y_neg = np.sum(y)\n",
    "    \n",
    "    mask = (y == 1)\n",
    "    selx = x[mask]\n",
    "    mu_den = len(y[mask])\n",
    "    mu_num = np.array([np.sum(selx[:,0]), np.sum(selx[:,1])])\n",
    "    return mu_num / mu_den\n",
    "\n",
    "def compute_mu0(x, y):\n",
    "    x = np.array(x)\n",
    "    y = np.array(y)\n",
    "    m = len(y)\n",
    "    y_neg = m - np.sum(y)\n",
    "    \n",
    "    mask = (y == 0)\n",
    "    selx = x[mask]\n",
    "    mu_den = len(y[mask])\n",
    "    mu_num = np.array([np.sum(selx[:,0]), np.sum(selx[:,1])])\n",
    "    return mu_num / mu_den\n",
    "        \n",
    "def compute_sigma(x, y, mu0, mu1):\n",
    "    x = np.array(x)\n",
    "    y = np.array(y)\n",
    "\n",
    "    n_x = x[y[:] == 0] - mu0\n",
    "    p_x = x[y[:] == 1] - mu1\n",
    "\n",
    "    return ((n_x.T)@(n_x) + (p_x.T)@(p_x)) / x.shape[0]\n",
    "\n",
    "def p_x_given_y(x, mu, sigma):\n",
    "    dim = np.shape(mu)[0]\n",
    "    #sigmadet = np.linalg.det(sigma + np.eye(dim))\n",
    "    sigmainv = np.linalg.inv(sigma + np.eye(dim))\n",
    "    #x = np.array([x])\n",
    "    #p = 1.0 / (np.power(np.power(2 * np.pi, dim) * np.abs(sigmadet), 0.5)) * \\\n",
    "    #           np.exp(-0.5 * xdiff.dot(sigmainv).dot(xdiff.T))[0][0]\n",
    "    \n",
    "    #return (1/((2*np.pi)**(dim/2))) * (1/(sigmadet**0.5)) \\\n",
    "    #        * np.exp(- 0.5*(x - mu).T@sigmainv@(x - mu))\n",
    "\n",
    "    return (1/((2*np.pi)**(dim/2) * len(sigma)**0.5) * np.exp(-0.5*(x-mu).T@\\\n",
    "            sigmainv@(x-mu)))"
   ]
  },
  {
   "cell_type": "markdown",
   "metadata": {},
   "source": [
    "\n",
    "################# Do not write below this line #################"
   ]
  },
  {
   "cell_type": "code",
   "execution_count": 189,
   "metadata": {},
   "outputs": [],
   "source": [
    "# Support functions\n",
    "\n",
    "# Function p(y) for applying the Bayes rule\n",
    "def p_y(y,phi):\n",
    "    if y==1: return phi\n",
    "    else: return 1-phi"
   ]
  },
  {
   "cell_type": "code",
   "execution_count": 190,
   "metadata": {},
   "outputs": [
    {
     "data": {
      "text/plain": [
       "(0.494949494949495,\n",
       " array([ 2.93068144, -1.44476469]),\n",
       " array([4.93616668, 0.76771897]),\n",
       " array([[ 2.68174521, -0.46404053],\n",
       "        [-0.46404053,  1.88367821]]))"
      ]
     },
     "execution_count": 190,
     "metadata": {},
     "output_type": "execute_result"
    }
   ],
   "source": [
    "# Now estimate the GDA parameters\n",
    "phi = compute_phi(y)\n",
    "mu0 = compute_mu0(x12,y)\n",
    "mu1 = compute_mu1(x12,y)\n",
    "sigma = compute_sigma(x12, y, mu0, mu1)\n",
    "\n",
    "phi,mu0,mu1,sigma"
   ]
  },
  {
   "cell_type": "markdown",
   "metadata": {},
   "source": [
    "Now that we know both the distributions of $p(y)$ and $p(x|y)$, we may estimate the posterior probability for an input $x$ via Bayes Rule:\n",
    "\n",
    "\\begin{equation}\n",
    "p(y \\mid x)=\\frac{p(x \\mid y) p(y)}{p(x)}\n",
    "\\end{equation}\n",
    "where $p(x)$ is the same for both classes and may be disregarded.\n",
    "\n",
    "This is used to classify each data point, by comparing $p(y=1|x) \\propto p(x \\mid y=1) p(y=1)$ and $p(y=0|x) \\propto p(x \\mid y=0) p(y=0)$."
   ]
  },
  {
   "cell_type": "code",
   "execution_count": 191,
   "metadata": {},
   "outputs": [
    {
     "name": "stdout",
     "output_type": "stream",
     "text": [
      "Selected example = [ 1.8205529 -0.6346681]\n",
      "p(y=0|x) ~ 0.04440514413109607\n",
      "p(y=1|x) ~ 0.008427159560525076\n"
     ]
    }
   ],
   "source": [
    "selected_example=1\n",
    "print('Selected example =', x12[selected_example,:])\n",
    "\n",
    "# compute p(y=0|x) ~ p(x|y=0)*p(y=0)  &  p(y=1|x) ~ p(x|y=1)*p(y=1)\n",
    "\n",
    "# y=0\n",
    "print('p(y=0|x) ~', p_x_given_y(x12[selected_example,:],mu0,sigma)*p_y(0,phi))\n",
    "\n",
    "# y=1\n",
    "print('p(y=1|x) ~', p_x_given_y(x12[selected_example,:],mu1,sigma)*p_y(1,phi))"
   ]
  },
  {
   "cell_type": "markdown",
   "metadata": {},
   "source": [
    "### (b) Plot the estimated likelihood functions, the decision boundary and write your remarks"
   ]
  },
  {
   "cell_type": "code",
   "execution_count": 192,
   "metadata": {},
   "outputs": [],
   "source": [
    "def boundary_gda(x1_vec, x2_vec, mu0, mu1, sigma, phi):\n",
    "    \n",
    "    x1_vec, x2_vec = np.meshgrid(x1_vec,x2_vec)\n",
    "    \n",
    "    f = np.zeros(x1_vec.shape)\n",
    "    \n",
    "    for i in range(f.shape[0]):\n",
    "        for j in range(f.shape[1]):\n",
    "            x12_ij = np.array( (x1_vec[i,j],x2_vec[i,j]) )\n",
    "            f[i,j] = p_x_given_y(x12_ij,mu1,sigma)\\\n",
    "                        *p_y(1,phi) - p_x_given_y(x12_ij,mu0,sigma)\\\n",
    "                        *p_y(0,phi)\n",
    "            \n",
    "    return x1_vec, x2_vec, f\n",
    "\n",
    "\n",
    "x1_vec = np.linspace(df_x_pl[\"x1\"].min()-1,df_x_pl[\"x1\"].max()+1,200);\n",
    "x2_vec = np.linspace(df_x_pl[\"x2\"].min()-1,df_x_pl[\"x2\"].max()+1,200);\n",
    "\n",
    "x1_vec, x2_vec, f = boundary_gda(x1_vec, x2_vec, mu0, mu1, sigma, phi)"
   ]
  },
  {
   "cell_type": "code",
   "execution_count": 193,
   "metadata": {},
   "outputs": [
    {
     "data": {
      "text/plain": [
       "(-0.42920059, 8.705400599999999)"
      ]
     },
     "execution_count": 193,
     "metadata": {},
     "output_type": "execute_result"
    },
    {
     "data": {
      "image/png": "[encoded data removed]",
      "text/plain": [
       "<Figure size 432x288 with 1 Axes>"
      ]
     },
     "metadata": {
      "needs_background": "light"
     },
     "output_type": "display_data"
    }
   ],
   "source": [
    "from matplotlib import cm\n",
    "from scipy.stats import multivariate_normal\n",
    "\n",
    "# Define Gaussian pdfs\n",
    "rv0 = multivariate_normal(mu0, sigma)\n",
    "rv1 = multivariate_normal(mu1, sigma)\n",
    "\n",
    "pairx12 = np.dstack((x1_vec, x2_vec))\n",
    "\n",
    "# plot pdf contours\n",
    "plt.contourf(x1_vec, x2_vec, rv0.pdf(pairx12),alpha=0.5,cmap=cm.Reds)\n",
    "plt.contourf(x1_vec, x2_vec, rv1.pdf(pairx12),alpha=0.35,cmap=cm.Blues)\n",
    "\n",
    "# Add the GDA classification to the plot\n",
    "sns.scatterplot(x=\"x1\", y=\"x2\", hue=\"y\", data=df_x_pl);\n",
    "plt.contour(x1_vec, x2_vec, f, colors=\"red\", levels=[0])\n",
    "\n",
    "plt.ylim(df_x_pl[\"x2\"].min()-1,df_x_pl[\"x2\"].max()+1)\n",
    "plt.xlim(df_x_pl[\"x1\"].min()-1,df_x_pl[\"x1\"].max()+1)"
   ]
  },
  {
   "cell_type": "code",
   "execution_count": 194,
   "metadata": {},
   "outputs": [
    {
     "data": {
      "image/png": "[encoded data removed]",
      "text/plain": [
       "<Figure size 432x288 with 1 Axes>"
      ]
     },
     "metadata": {
      "needs_background": "light"
     },
     "output_type": "display_data"
    }
   ],
   "source": [
    "# For comparison with the Logistic Regression boundary\n",
    "\n",
    "# Generate vector to plot decision boundary\n",
    "x1vec = np.linspace(df_x_pl[\"x1\"].min()-1,df_x_pl[\"x1\"].max()+1,2)\n",
    "\n",
    "# Plot raw data\n",
    "sns.scatterplot(x=\"x1\", y=\"x2\", hue=\"y\", data=df_x_pl)\n",
    "\n",
    "# Plot decision boundary\n",
    "log, = plt.plot(x1vec,(-x1vec*theta_GA[1]-theta_GA[0])/theta_GA[2], color=\"red\")\n",
    "gda = plt.contour(x1_vec, x2_vec, f, colors=\"green\", levels=[0])\n",
    "\n",
    "plt.legend([log, gda.collections[0]],['logistic regression','GDA'])\n",
    "\n",
    "plt.ylim(df_x_pl[\"x2\"].min()-1,df_x_pl[\"x2\"].max()+1)\n",
    "plt.xlim(df_x_pl[\"x1\"].min()-1,df_x_pl[\"x1\"].max()+1)\n",
    "\n",
    "# plt.legend()\n",
    "plt.show()"
   ]
  },
  {
   "cell_type": "markdown",
   "metadata": {},
   "source": [
    "Write now your considerations. Discuss in particular:\n",
    "- Gaussian Discriminant Analysis makes stronger modelling assumptions than logistic regression. When may this be helpful and where may this be harmful?"
   ]
  },
  {
   "cell_type": "markdown",
   "metadata": {},
   "source": [
    "Credits for material: Andrew Ng, C. Combier"
   ]
  }
 ],
 "metadata": {
  "kernelspec": {
   "display_name": "Python 3",
   "language": "python",
   "name": "python3"
  },
  "language_info": {
   "codemirror_mode": {
    "name": "ipython",
    "version": 3
   },
   "file_extension": ".py",
   "mimetype": "text/x-python",
   "name": "python",
   "nbconvert_exporter": "python",
   "pygments_lexer": "ipython3",
   "version": "3.8.3"
  }
 },
 "nbformat": 4,
 "nbformat_minor": 1
}
